{
  "cells": [
    {
      "cell_type": "markdown",
      "metadata": {
        "id": "50WyDkgbktTz"
      },
      "source": [
        "## Lab 2"
      ]
    },
    {
      "cell_type": "markdown",
      "metadata": {
        "id": "W8S9Ij-UktT1"
      },
      "source": [
        "### Part 3. Poetry generation\n",
        "\n",
        "Let's try to generate some poetry using RNNs.\n",
        "\n",
        "You have several choices here:\n",
        "\n",
        "* The Shakespeare sonnets, file `sonnets.txt` available in the notebook directory.\n",
        "\n",
        "* Роман в стихах \"Евгений Онегин\" Александра Сергеевича Пушкина. В предобработанном виде доступен по [ссылке](https://github.com/attatrol/data_sources/blob/master/onegin.txt).\n",
        "\n",
        "* Some other text source, if it will be approved by the course staff.\n",
        "\n",
        "Text generation can be designed in several steps:\n",
        "    \n",
        "1. Data loading.\n",
        "2. Dictionary generation.\n",
        "3. Data preprocessing.\n",
        "4. Model (neural network) training.\n",
        "5. Text generation (model evaluation).\n"
      ]
    },
    {
      "cell_type": "code",
      "execution_count": 2,
      "metadata": {
        "id": "W67gWi-XktT1"
      },
      "outputs": [],
      "source": [
        "import string\n",
        "import os"
      ]
    },
    {
      "cell_type": "markdown",
      "metadata": {
        "id": "wAKCNy4UktT2"
      },
      "source": [
        "### Data loading: Shakespeare"
      ]
    },
    {
      "cell_type": "markdown",
      "metadata": {
        "id": "Hv56EK0AktT2"
      },
      "source": [
        "Shakespeare sonnets are awailable at this [link](http://www.gutenberg.org/ebooks/1041?msg=welcome_stranger). In addition, they are stored in the same directory as this notebook (`sonnetes.txt`). Simple preprocessing is already done for you in the next cell: all technical info is dropped."
      ]
    },
    {
      "cell_type": "code",
      "execution_count": 33,
      "metadata": {
        "collapsed": true,
        "id": "xYSmOarGktT2"
      },
      "outputs": [],
      "source": [
        "import re\n",
        "\n",
        "if not os.path.exists('sonnets.txt'):\n",
        "    !wget https://raw.githubusercontent.com/girafe-ai/ml-course/22f_basic/homeworks_basic/lab02_deep_learning/sonnets.txt\n",
        "\n",
        "with open('sonnets.txt', 'r') as iofile:\n",
        "    text = iofile.readlines()\n",
        "\n",
        "TEXT_START = 45\n",
        "TEXT_END = -368\n",
        "text = text[TEXT_START : TEXT_END]\n",
        "assert len(text) == 2616\n",
        "text = [line.lstrip() for line in text]\n",
        "text = ''.join(text).lower()\n",
        "text = re.sub(r'(^|\\n)\\s*[ivxlcdm]+\\s+', '\\n', text)"
      ]
    },
    {
      "cell_type": "markdown",
      "metadata": {
        "id": "oKS63DoAktT2"
      },
      "source": [
        "In opposite to the in-class practice, this time we want to predict complex text. Let's reduce the complexity of the task and lowercase all the symbols.\n",
        "\n",
        "Now variable `text` is a list of strings. Join all the strings into one and lowercase it."
      ]
    },
    {
      "cell_type": "markdown",
      "metadata": {
        "id": "HgBQL7CnktT3"
      },
      "source": [
        "### Data loading: \"Евгений Онегин\"\n"
      ]
    },
    {
      "cell_type": "code",
      "execution_count": null,
      "metadata": {
        "colab": {
          "base_uri": "https://localhost:8080/"
        },
        "id": "6KYWTIwuktT3",
        "outputId": "a43bc4fe-23a4-4502-d483-9c3b874d5a0d"
      },
      "outputs": [
        {
          "output_type": "stream",
          "name": "stdout",
          "text": [
            "--2024-12-14 10:03:13--  https://raw.githubusercontent.com/attatrol/data_sources/master/onegin.txt\n",
            "Resolving raw.githubusercontent.com (raw.githubusercontent.com)... 185.199.108.133, 185.199.109.133, 185.199.110.133, ...\n",
            "Connecting to raw.githubusercontent.com (raw.githubusercontent.com)|185.199.108.133|:443... connected.\n",
            "HTTP request sent, awaiting response... 200 OK\n",
            "Length: 262521 (256K) [text/plain]\n",
            "Saving to: ‘onegin.txt’\n",
            "\n",
            "\ronegin.txt            0%[                    ]       0  --.-KB/s               \ronegin.txt          100%[===================>] 256.37K  --.-KB/s    in 0.03s   \n",
            "\n",
            "2024-12-14 10:03:13 (9.89 MB/s) - ‘onegin.txt’ saved [262521/262521]\n",
            "\n"
          ]
        }
      ],
      "source": [
        "!wget https://raw.githubusercontent.com/attatrol/data_sources/master/onegin.txt\n",
        "\n",
        "with open('onegin.txt', 'r') as iofile:\n",
        "    text = iofile.readlines()\n",
        "\n",
        "text = [x.replace('\\t\\t', '') for x in text]"
      ]
    },
    {
      "cell_type": "markdown",
      "metadata": {
        "id": "CnooXOUkktT4"
      },
      "source": [
        "In opposite to the in-class practice, this time we want to predict complex text. Let's reduce the complexity of the task and lowercase all the symbols.\n",
        "\n",
        "Now variable `text` is a list of strings. Join all the strings into one and lowercase it."
      ]
    },
    {
      "cell_type": "code",
      "execution_count": null,
      "metadata": {
        "colab": {
          "base_uri": "https://localhost:8080/",
          "height": 201
        },
        "id": "nDRyPJAIktT4",
        "outputId": "8ab273ff-4f16-4e9f-d4ac-88fb3c6c7085"
      },
      "outputs": [
        {
          "output_type": "error",
          "ename": "TypeError",
          "evalue": "'str' object does not support item assignment",
          "traceback": [
            "\u001b[0;31m---------------------------------------------------------------------------\u001b[0m",
            "\u001b[0;31mTypeError\u001b[0m                                 Traceback (most recent call last)",
            "\u001b[0;32m<ipython-input-8-723c995b17b7>\u001b[0m in \u001b[0;36m<cell line: 5>\u001b[0;34m()\u001b[0m\n\u001b[1;32m      3\u001b[0m \u001b[0;34m\u001b[0m\u001b[0m\n\u001b[1;32m      4\u001b[0m \u001b[0;31m# Your great code here\u001b[0m\u001b[0;34m\u001b[0m\u001b[0;34m\u001b[0m\u001b[0m\n\u001b[0;32m----> 5\u001b[0;31m \u001b[0mtext\u001b[0m\u001b[0;34m[\u001b[0m\u001b[0;36m0\u001b[0m\u001b[0;34m]\u001b[0m \u001b[0;34m=\u001b[0m \u001b[0;34m' '\u001b[0m \u001b[0;34m+\u001b[0m \u001b[0mtext\u001b[0m\u001b[0;34m[\u001b[0m\u001b[0;36m0\u001b[0m\u001b[0;34m]\u001b[0m\u001b[0;34m\u001b[0m\u001b[0;34m\u001b[0m\u001b[0m\n\u001b[0m\u001b[1;32m      6\u001b[0m \u001b[0mtext\u001b[0m \u001b[0;34m=\u001b[0m \u001b[0;34m' '\u001b[0m\u001b[0;34m.\u001b[0m\u001b[0mjoin\u001b[0m\u001b[0;34m(\u001b[0m\u001b[0mtext\u001b[0m\u001b[0;34m)\u001b[0m\u001b[0;34m.\u001b[0m\u001b[0mlower\u001b[0m\u001b[0;34m(\u001b[0m\u001b[0;34m)\u001b[0m\u001b[0;34m.\u001b[0m\u001b[0mreplace\u001b[0m\u001b[0;34m(\u001b[0m\u001b[0;34m'\\n'\u001b[0m\u001b[0;34m,\u001b[0m \u001b[0;34m''\u001b[0m\u001b[0;34m)\u001b[0m\u001b[0;34m\u001b[0m\u001b[0;34m\u001b[0m\u001b[0m\n",
            "\u001b[0;31mTypeError\u001b[0m: 'str' object does not support item assignment"
          ]
        }
      ],
      "source": [
        "# Join all the strings into one and lowercase it\n",
        "# Put result into variable text.\n",
        "\n",
        "# Your great code here\n",
        "text[0] = ' ' + text[0]\n",
        "text = ' '.join(text).lower().replace('\\n', '')\n"
      ]
    },
    {
      "cell_type": "markdown",
      "metadata": {
        "id": "bWq17quhktT4"
      },
      "source": [
        "Put all the characters, that you've seen in the text, into variable `tokens`."
      ]
    },
    {
      "cell_type": "code",
      "execution_count": 34,
      "metadata": {
        "id": "aJtop0AwktT4"
      },
      "outputs": [],
      "source": [
        "tokens = sorted(set(text))"
      ]
    },
    {
      "cell_type": "markdown",
      "metadata": {
        "id": "QQgo4mfoktT4"
      },
      "source": [
        "Create dictionary `token_to_idx = {<char>: <index>}` and dictionary `idx_to_token = {<index>: <char>}`"
      ]
    },
    {
      "cell_type": "code",
      "execution_count": 35,
      "metadata": {
        "collapsed": true,
        "colab": {
          "base_uri": "https://localhost:8080/"
        },
        "id": "iQuMCiu8ktT4",
        "outputId": "ca8ca45c-447a-453a-fcf4-82cc43dde661"
      },
      "outputs": [
        {
          "output_type": "stream",
          "name": "stdout",
          "text": [
            "Tokens: ['\\n', ' ', '!', \"'\", '(', ')', ',', '-', '.', ':', ';', '?', 'a', 'b', 'c', 'd', 'e', 'f', 'g', 'h', 'i', 'j', 'k', 'l', 'm', 'n', 'o', 'p', 'q', 'r', 's', 't', 'u', 'v', 'w', 'x', 'y', 'z']\n",
            "Token to index: {'\\n': 0, ' ': 1, '!': 2, \"'\": 3, '(': 4, ')': 5, ',': 6, '-': 7, '.': 8, ':': 9, ';': 10, '?': 11, 'a': 12, 'b': 13, 'c': 14, 'd': 15, 'e': 16, 'f': 17, 'g': 18, 'h': 19, 'i': 20, 'j': 21, 'k': 22, 'l': 23, 'm': 24, 'n': 25, 'o': 26, 'p': 27, 'q': 28, 'r': 29, 's': 30, 't': 31, 'u': 32, 'v': 33, 'w': 34, 'x': 35, 'y': 36, 'z': 37}\n",
            "Index to token: {0: '\\n', 1: ' ', 2: '!', 3: \"'\", 4: '(', 5: ')', 6: ',', 7: '-', 8: '.', 9: ':', 10: ';', 11: '?', 12: 'a', 13: 'b', 14: 'c', 15: 'd', 16: 'e', 17: 'f', 18: 'g', 19: 'h', 20: 'i', 21: 'j', 22: 'k', 23: 'l', 24: 'm', 25: 'n', 26: 'o', 27: 'p', 28: 'q', 29: 'r', 30: 's', 31: 't', 32: 'u', 33: 'v', 34: 'w', 35: 'x', 36: 'y', 37: 'z'}\n"
          ]
        }
      ],
      "source": [
        "# dict <index>:<char>\n",
        "# Your great code here\n",
        "# Словарь: символ - индекс\n",
        "token_to_idx = {char: idx for idx, char in enumerate(tokens)}\n",
        "\n",
        "# Your great code here\n",
        "#Словарь: индекс - символ\n",
        "idx_to_char = {idx: char for idx, char in enumerate(tokens)}\n",
        "\n",
        "print(\"Tokens:\", tokens)\n",
        "print(\"Token to index:\", token_to_idx)\n",
        "print(\"Index to token:\", idx_to_char)"
      ]
    },
    {
      "cell_type": "markdown",
      "metadata": {
        "id": "1-BzfazFktT4"
      },
      "source": [
        "*Comment: in this task we have only 38 different tokens, so let's use one-hot encoding.*"
      ]
    },
    {
      "cell_type": "code",
      "source": [
        "import numpy as np\n",
        "\n",
        "# размер словаря\n",
        "vocab_size = len(tokens)\n",
        "\n",
        "# Преобразование текста в матрицу one-hot encoding\n",
        "def one_hot_encode(text, vocab_size):\n",
        "    one_hot_matrix = np.zeros((len(text), vocab_size), dtype=np.float32)\n",
        "    for i, char in enumerate(text):\n",
        "      # Заполняем единицей позицию вектора соответствующего символа\n",
        "        one_hot_matrix[i, token_to_idx[char]] = 1\n",
        "    return one_hot_matrix"
      ],
      "metadata": {
        "id": "IqqA0lnjqAaN"
      },
      "execution_count": 36,
      "outputs": []
    },
    {
      "cell_type": "markdown",
      "metadata": {
        "id": "tci93SRZktT4"
      },
      "source": [
        "### Building the model"
      ]
    },
    {
      "cell_type": "markdown",
      "metadata": {
        "id": "lg7JG0P6ktT5"
      },
      "source": [
        "Now we want to build and train recurrent neural net which would be able to something similar to Shakespeare's poetry.\n",
        "\n",
        "Let's use vanilla RNN, similar to the one created during the lesson."
      ]
    },
    {
      "cell_type": "code",
      "execution_count": 37,
      "metadata": {
        "collapsed": true,
        "id": "A1ZUawa9ktT5"
      },
      "outputs": [],
      "source": [
        "import torch\n",
        "import torch.nn as nn\n",
        "import numpy as np\n",
        "from torch.utils.data import Dataset, DataLoader\n",
        "\n",
        "# Your code here\n",
        "class VanillaRNN(nn.Module):\n",
        "    def __init__(self, vocab_size, embed_size, hidden_size):\n",
        "        super(VanillaRNN, self).__init__()\n",
        "        self.embedding = nn.Embedding(vocab_size, embed_size)\n",
        "        self.rnn = nn.RNN(embed_size, hidden_size, batch_first=True)\n",
        "        self.fc = nn.Linear(hidden_size, vocab_size)\n",
        "\n",
        "    def forward(self, x, hidden):\n",
        "        x = self.embedding(x)\n",
        "        out, hidden = self.rnn(x, hidden)\n",
        "        out = self.fc(out)\n",
        "        return out, hidden\n",
        "\n",
        "embedding_size = 64\n",
        "hidden_size = 128\n",
        "learning_rate = 0.001\n",
        "vocab_size = len(tokens)\n",
        "device = torch.device('cuda' if torch.cuda.is_available() else 'cpu')\n",
        "model = VanillaRNN(vocab_size, embedding_size, hidden_size).to(device)\n",
        "criterion = nn.CrossEntropyLoss()\n",
        "optimizer = torch.optim.Adam(model.parameters(), lr=learning_rate)"
      ]
    },
    {
      "cell_type": "markdown",
      "metadata": {
        "id": "0PrZ61DHktT5"
      },
      "source": [
        "Plot the loss function (axis X: number of epochs, axis Y: loss function)."
      ]
    },
    {
      "cell_type": "code",
      "source": [
        "EPOCHS = 40\n",
        "BATCH_SIZE = 2048\n",
        "sequence_length = 100"
      ],
      "metadata": {
        "id": "kDgXIa-9uQsq"
      },
      "execution_count": 38,
      "outputs": []
    },
    {
      "cell_type": "code",
      "source": [
        "# Подготовка данных для обучения\n",
        "class TextDataset(Dataset):\n",
        "    def __init__(self, text, char_to_idx, seq_len):\n",
        "        self.text = text\n",
        "        self.char_to_idx = char_to_idx\n",
        "        self.seq_len = seq_len\n",
        "        self.data = [char_to_idx[ch] for ch in text]\n",
        "\n",
        "    def __len__(self):\n",
        "        return len(self.data) - self.seq_len\n",
        "\n",
        "    def __getitem__(self, idx):\n",
        "        x = self.data[idx:idx + self.seq_len]\n",
        "        y = self.data[idx + 1:idx + self.seq_len + 1]\n",
        "        return torch.tensor(x, dtype=torch.long), torch.tensor(y, dtype=torch.long)\n",
        "\n",
        "dataset = TextDataset(text, token_to_idx, sequence_length)\n",
        "dataloader = DataLoader(dataset, batch_size=BATCH_SIZE, shuffle=True)"
      ],
      "metadata": {
        "id": "2T9DagYat7Tc"
      },
      "execution_count": 39,
      "outputs": []
    },
    {
      "cell_type": "code",
      "source": [
        "#Для хранения значения потерь\n",
        "loss_history = []\n",
        "\n",
        "#запуск обучения\n",
        "for epoch in range(EPOCHS):\n",
        "    hidden = None\n",
        "    total_loss = 0\n",
        "    for i, (inputs, targets) in enumerate(dataloader):\n",
        "        inputs, targets = inputs.to(device), targets.to(device)\n",
        "\n",
        "        # Инициализация скрытого состояния для текущего батча\n",
        "        hidden = torch.zeros(1, inputs.size(0), hidden_size).to(device)\n",
        "\n",
        "        optimizer.zero_grad()\n",
        "        outputs, hidden = model(inputs, hidden)\n",
        "\n",
        "        loss = criterion(outputs.view(-1, vocab_size), targets.view(-1))\n",
        "        loss.backward()\n",
        "        optimizer.step()\n",
        "\n",
        "        total_loss += loss.item()\n",
        "\n",
        "    avg_loss = total_loss / len(dataloader)\n",
        "    loss_history.append(avg_loss)\n",
        "    print(f\"Epoch [{epoch+1}/{EPOCHS}], Loss: {avg_loss:.4f}\")\n",
        "\n",
        "torch.save(model, 'vRNN.pth')"
      ],
      "metadata": {
        "colab": {
          "base_uri": "https://localhost:8080/"
        },
        "id": "a8LJu5SkutKs",
        "outputId": "093a22f7-cdf0-4efb-d3a6-3092cf0beaa9"
      },
      "execution_count": 40,
      "outputs": [
        {
          "output_type": "stream",
          "name": "stdout",
          "text": [
            "Epoch [1/40], Loss: 2.8243\n",
            "Epoch [2/40], Loss: 2.3005\n",
            "Epoch [3/40], Loss: 2.1225\n",
            "Epoch [4/40], Loss: 2.0081\n",
            "Epoch [5/40], Loss: 1.9180\n",
            "Epoch [6/40], Loss: 1.8458\n",
            "Epoch [7/40], Loss: 1.7873\n",
            "Epoch [8/40], Loss: 1.7392\n",
            "Epoch [9/40], Loss: 1.6987\n",
            "Epoch [10/40], Loss: 1.6637\n",
            "Epoch [11/40], Loss: 1.6324\n",
            "Epoch [12/40], Loss: 1.6041\n",
            "Epoch [13/40], Loss: 1.5784\n",
            "Epoch [14/40], Loss: 1.5549\n",
            "Epoch [15/40], Loss: 1.5333\n",
            "Epoch [16/40], Loss: 1.5132\n",
            "Epoch [17/40], Loss: 1.4944\n",
            "Epoch [18/40], Loss: 1.4767\n",
            "Epoch [19/40], Loss: 1.4603\n",
            "Epoch [20/40], Loss: 1.4451\n",
            "Epoch [21/40], Loss: 1.4306\n",
            "Epoch [22/40], Loss: 1.4172\n",
            "Epoch [23/40], Loss: 1.4044\n",
            "Epoch [24/40], Loss: 1.3923\n",
            "Epoch [25/40], Loss: 1.3809\n",
            "Epoch [26/40], Loss: 1.3701\n",
            "Epoch [27/40], Loss: 1.3598\n",
            "Epoch [28/40], Loss: 1.3500\n",
            "Epoch [29/40], Loss: 1.3408\n",
            "Epoch [30/40], Loss: 1.3321\n",
            "Epoch [31/40], Loss: 1.3240\n",
            "Epoch [32/40], Loss: 1.3164\n",
            "Epoch [33/40], Loss: 1.3093\n",
            "Epoch [34/40], Loss: 1.3031\n",
            "Epoch [35/40], Loss: 1.2972\n",
            "Epoch [36/40], Loss: 1.2920\n",
            "Epoch [37/40], Loss: 1.2871\n",
            "Epoch [38/40], Loss: 1.2824\n",
            "Epoch [39/40], Loss: 1.2786\n",
            "Epoch [40/40], Loss: 1.2747\n"
          ]
        }
      ]
    },
    {
      "cell_type": "code",
      "execution_count": 41,
      "metadata": {
        "collapsed": true,
        "colab": {
          "base_uri": "https://localhost:8080/",
          "height": 564
        },
        "id": "pBWa69BnktT5",
        "outputId": "6f9059e2-cadf-4219-e9ea-65c72405da4e"
      },
      "outputs": [
        {
          "output_type": "display_data",
          "data": {
            "text/plain": [
              "<Figure size 1000x600 with 1 Axes>"
            ],
            "image/png": "[encoded data removed]"
          },
          "metadata": {}
        }
      ],
      "source": [
        "# Your plot code here\n",
        "import matplotlib.pyplot as plt\n",
        "\n",
        "# Визуализация функции потерь\n",
        "plt.figure(figsize=(10, 6))\n",
        "plt.plot(range(1, EPOCHS + 1), loss_history, marker='o')\n",
        "plt.title('Loss vs Epoch')\n",
        "plt.xlabel('Epoch')\n",
        "plt.ylabel('Loss')\n",
        "plt.grid()\n",
        "plt.show()"
      ]
    },
    {
      "cell_type": "code",
      "source": [
        "model = torch.load('vRNN.pth', weights_only=False)"
      ],
      "metadata": {
        "id": "Wpvhq7Ah6iVu"
      },
      "execution_count": 42,
      "outputs": []
    },
    {
      "cell_type": "code",
      "execution_count": 43,
      "metadata": {
        "id": "2kvtWY8yktT5"
      },
      "outputs": [],
      "source": [
        "import torch.nn.functional as F\n",
        "\n",
        "def generate_text(model, start_text, length, temperature = 1.0):\n",
        "    model.eval()\n",
        "    input_text = torch.tensor([token_to_idx[ch] for ch in start_text], dtype=torch.long).unsqueeze(0).to(device)\n",
        "    hidden = None\n",
        "    generated_text = start_text.lower()\n",
        "\n",
        "    with torch.no_grad():\n",
        "        for _ in range(length):\n",
        "            output, hidden = model(input_text, hidden)\n",
        "            next_char_idx = torch.argmax(output[:, -1, :]).item()\n",
        "            next_char = idx_to_char[next_char_idx]\n",
        "            generated_text += next_char\n",
        "            input_text = torch.tensor([[next_char_idx]], dtype=torch.long).to(device)\n",
        "\n",
        "    return generated_text"
      ]
    },
    {
      "cell_type": "code",
      "execution_count": 44,
      "metadata": {
        "colab": {
          "base_uri": "https://localhost:8080/"
        },
        "id": "IaAuVy0WktT5",
        "outputId": "1b0b504e-d2ad-44d3-e06d-79ad2783c2c7"
      },
      "outputs": [
        {
          "output_type": "stream",
          "name": "stdout",
          "text": [
            "the cat goes home on friday would the lovely desired,\n",
            "and the world i are but in the stars with the worth the world and see thee is thing they see assead,\n",
            "the world with this live i am fortune to thee shall be this thoughts one i so still doth for my soul the world shall be the there is my love's desire to moth to gracious the star the strength so summer's good of the world shall be the there is my love's desire to moth to gracious the star the strength so summer's good of the world shall be the there is my love's desire \n"
          ]
        }
      ],
      "source": [
        "# An example of generated text.\n",
        "# print(generate_text(length=500, temperature=0.2))\n",
        "\n",
        "start_text = \"the cat goes home on friday\"  # Replace with your own starting sequence\n",
        "print(generate_text(model, start_text, 500, 0.2))"
      ]
    },
    {
      "cell_type": "markdown",
      "metadata": {
        "id": "8P6r2qskktT5"
      },
      "source": [
        "### More poetic model\n",
        "\n",
        "Let's use LSTM instead of vanilla RNN and compare the results."
      ]
    },
    {
      "cell_type": "markdown",
      "metadata": {
        "id": "z4U7sDUvktT6"
      },
      "source": [
        "Plot the loss function of the number of epochs. Does the final loss become better?"
      ]
    },
    {
      "cell_type": "code",
      "execution_count": 45,
      "metadata": {
        "collapsed": true,
        "id": "WgkbWqilktT6"
      },
      "outputs": [],
      "source": [
        "# Your beautiful code here\n",
        "class LSTMModel(nn.Module):\n",
        "    def __init__(self, vocab_size, embed_size, hidden_size):\n",
        "        super(LSTMModel, self).__init__()\n",
        "        self.embedding = nn.Embedding(vocab_size, embed_size)\n",
        "        self.lstm = nn.LSTM(embed_size, hidden_size, batch_first=True)\n",
        "        self.fc = nn.Linear(hidden_size, vocab_size)\n",
        "\n",
        "    def forward(self, x, hidden):\n",
        "        x = self.embedding(x)\n",
        "        out, hidden = self.lstm(x, hidden)\n",
        "        out = self.fc(out)\n",
        "        return out, hidden"
      ]
    },
    {
      "cell_type": "code",
      "source": [
        "# Инициализация LSTM model\n",
        "lstm_model = LSTMModel(vocab_size, embedding_size, hidden_size).to(device)\n",
        "\n",
        "# Функция потерь и optimizer для LSTM\n",
        "criterion = nn.CrossEntropyLoss()\n",
        "optimizer = torch.optim.Adam(lstm_model.parameters(), lr=learning_rate)\n",
        "\n",
        "# Для хранения функции потерь\n",
        "lstm_loss_history = []\n",
        "# запуск обучения для LSTM\n",
        "for epoch in range(EPOCHS):\n",
        "    total_loss = 0\n",
        "\n",
        "    for i, (inputs, targets) in enumerate(dataloader):\n",
        "        inputs, targets = inputs.to(device), targets.to(device)\n",
        "        batch_size = inputs.size(0)\n",
        "\n",
        "        hidden = (torch.zeros(1, batch_size, hidden_size).to(device),\n",
        "              torch.zeros(1, batch_size, hidden_size).to(device))  # LSTM hidden state (h, c)\n",
        "\n",
        "        if hidden is None or hidden[0].size(1) != batch_size:\n",
        "            # Повторно инициализируйте скрытое состояние, если это первый пакет или изменяется размер пакета\n",
        "            hidden = (\n",
        "                torch.zeros(1, batch_size, hidden_size).to(device),\n",
        "                torch.zeros(1, batch_size, hidden_size).to(device)\n",
        "            )\n",
        "        else:\n",
        "            # Detach скрытого состояния от графика вычислений, чтобы предотвратить повторный просмотр истории\n",
        "            hidden = tuple(h.detach() for h in hidden)\n",
        "\n",
        "\n",
        "        optimizer.zero_grad()\n",
        "        outputs, hidden = lstm_model(inputs, hidden)\n",
        "        hidden = tuple([h.detach() for h in hidden])  # Detach скрытого состояния, чтобы предотвратить повторный просмотр истории\n",
        "\n",
        "        loss = criterion(outputs.view(-1, vocab_size), targets.view(-1))\n",
        "        loss.backward()\n",
        "        optimizer.step()\n",
        "\n",
        "        total_loss += loss.item()\n",
        "\n",
        "    avg_loss = total_loss / len(dataloader)\n",
        "    lstm_loss_history.append(avg_loss)\n",
        "    print(f\"LSTM Epoch [{epoch+1}/{EPOCHS}], Loss: {avg_loss:.4f}\")"
      ],
      "metadata": {
        "colab": {
          "base_uri": "https://localhost:8080/"
        },
        "id": "zPbh07n64e_L",
        "outputId": "f93411a0-61fd-4e96-cb4c-735be725bb22"
      },
      "execution_count": 46,
      "outputs": [
        {
          "output_type": "stream",
          "name": "stdout",
          "text": [
            "LSTM Epoch [1/40], Loss: 3.0241\n",
            "LSTM Epoch [2/40], Loss: 2.4131\n",
            "LSTM Epoch [3/40], Loss: 2.1873\n",
            "LSTM Epoch [4/40], Loss: 2.0402\n",
            "LSTM Epoch [5/40], Loss: 1.9366\n",
            "LSTM Epoch [6/40], Loss: 1.8584\n",
            "LSTM Epoch [7/40], Loss: 1.7959\n",
            "LSTM Epoch [8/40], Loss: 1.7439\n",
            "LSTM Epoch [9/40], Loss: 1.7002\n",
            "LSTM Epoch [10/40], Loss: 1.6624\n",
            "LSTM Epoch [11/40], Loss: 1.6286\n",
            "LSTM Epoch [12/40], Loss: 1.5978\n",
            "LSTM Epoch [13/40], Loss: 1.5694\n",
            "LSTM Epoch [14/40], Loss: 1.5430\n",
            "LSTM Epoch [15/40], Loss: 1.5181\n",
            "LSTM Epoch [16/40], Loss: 1.4945\n",
            "LSTM Epoch [17/40], Loss: 1.4720\n",
            "LSTM Epoch [18/40], Loss: 1.4504\n",
            "LSTM Epoch [19/40], Loss: 1.4298\n",
            "LSTM Epoch [20/40], Loss: 1.4098\n",
            "LSTM Epoch [21/40], Loss: 1.3904\n",
            "LSTM Epoch [22/40], Loss: 1.3718\n",
            "LSTM Epoch [23/40], Loss: 1.3535\n",
            "LSTM Epoch [24/40], Loss: 1.3356\n",
            "LSTM Epoch [25/40], Loss: 1.3180\n",
            "LSTM Epoch [26/40], Loss: 1.3005\n",
            "LSTM Epoch [27/40], Loss: 1.2837\n",
            "LSTM Epoch [28/40], Loss: 1.2668\n",
            "LSTM Epoch [29/40], Loss: 1.2504\n",
            "LSTM Epoch [30/40], Loss: 1.2343\n",
            "LSTM Epoch [31/40], Loss: 1.2191\n",
            "LSTM Epoch [32/40], Loss: 1.2036\n",
            "LSTM Epoch [33/40], Loss: 1.1894\n",
            "LSTM Epoch [34/40], Loss: 1.1756\n",
            "LSTM Epoch [35/40], Loss: 1.1626\n",
            "LSTM Epoch [36/40], Loss: 1.1501\n",
            "LSTM Epoch [37/40], Loss: 1.1385\n",
            "LSTM Epoch [38/40], Loss: 1.1273\n",
            "LSTM Epoch [39/40], Loss: 1.1171\n",
            "LSTM Epoch [40/40], Loss: 1.1062\n"
          ]
        }
      ]
    },
    {
      "cell_type": "code",
      "source": [
        "torch.save(model, 'LTSM.pth')"
      ],
      "metadata": {
        "id": "zu7_FZ2uYkfx"
      },
      "execution_count": 47,
      "outputs": []
    },
    {
      "cell_type": "code",
      "source": [
        "import matplotlib.pyplot as plt\n",
        "# Визуализация функции потерь для Vanilla RNN и LSTM\n",
        "plt.figure(figsize=(10, 6))\n",
        "plt.plot(range(1, EPOCHS + 1), loss_history, marker='o', label='Vanilla RNN')\n",
        "plt.plot(range(1, EPOCHS + 1), lstm_loss_history, marker='s', label='LSTM')\n",
        "plt.title('Loss vs Epoch')\n",
        "plt.xlabel('Epoch')\n",
        "plt.ylabel('Loss')\n",
        "plt.legend()\n",
        "plt.grid()\n",
        "plt.show()"
      ],
      "metadata": {
        "colab": {
          "base_uri": "https://localhost:8080/",
          "height": 564
        },
        "id": "lX3aGvMo5Mt5",
        "outputId": "2026f3cf-deb9-4d90-825a-b0156f35921d"
      },
      "execution_count": 48,
      "outputs": [
        {
          "output_type": "display_data",
          "data": {
            "text/plain": [
              "<Figure size 1000x600 with 1 Axes>"
            ],
            "image/png": "[encoded data removed]"
          },
          "metadata": {}
        }
      ]
    },
    {
      "cell_type": "markdown",
      "source": [
        "# Vanilla RNN:\n",
        "\n",
        "1) Страдает от проблемы затухающих или взрывающихся градиентов, из-за чего плохо обучается на длинных последовательностях.\n",
        "\n",
        "2) Ограничена в моделировании долгосрочных зависимостей.\n",
        "\n",
        "# LSTM:\n",
        "\n",
        "1) Решает проблему затухающих градиентов благодаря механизму гейтов и прямому переносу информации через ячейки памяти.\n",
        "\n",
        "2) Эффективно работает с длинными последовательностями.\n",
        "\n",
        "# Скорость вычислений и ресурсы:\n",
        "\n",
        "1) Vanilla RNN:\n",
        "\n",
        "Легче и быстрее обучается, так как у нее меньше параметров и простая структура.\n",
        "Подходит для задач, где важна скорость и последовательности короткие.\n",
        "\n",
        "2) LSTM:\n",
        "\n",
        "Более ресурсоемкая из-за сложной структуры (гейты, ячейки памяти).\n",
        "Замедляется на больших наборах данных, но часто оправдана для сложных задач."
      ],
      "metadata": {
        "id": "lgs48G35-58o"
      }
    },
    {
      "cell_type": "markdown",
      "metadata": {
        "id": "t4T5qo2qktT6"
      },
      "source": [
        "Generate text using the trained net with different `temperature` parameter: `[0.1, 0.2, 0.5, 1.0, 2.0]`.\n",
        "\n",
        "Evaluate the results visually, try to interpret them."
      ]
    },
    {
      "cell_type": "code",
      "execution_count": 49,
      "metadata": {
        "collapsed": true,
        "id": "4I-6jsS_ktT6"
      },
      "outputs": [],
      "source": [
        "import torch.nn.functional as F\n",
        "# Функция для генерации текста с различными значениями temperature\n",
        "def generate_text_with_temperature(model, start_text, length, temperature):\n",
        "    model.eval()\n",
        "    input_text = torch.tensor([token_to_idx[ch] for ch in start_text], dtype=torch.long).unsqueeze(0).to(device)\n",
        "    hidden = (torch.zeros(1, 1, hidden_size).to(device), torch.zeros(1, 1, hidden_size).to(device))  # For LSTM\n",
        "    generated_text = start_text\n",
        "\n",
        "    with torch.no_grad():\n",
        "        for _ in range(length):\n",
        "            output, hidden = model(input_text, hidden)\n",
        "            output = output[:, -1, :]  # Focus на последнем символе в последовательности\n",
        "\n",
        "            # масштабирование temperature\n",
        "            scaled_logits = output / temperature\n",
        "            probabilities = F.softmax(scaled_logits, dim=-1).cpu().numpy().flatten()\n",
        "\n",
        "            # Нормализация вероятности (при необходимости) и выбор следующего символа\n",
        "            probabilities /= probabilities.sum()\n",
        "            next_char_idx = np.random.choice(len(probabilities), p=probabilities)\n",
        "            next_char = idx_to_char[next_char_idx]\n",
        "\n",
        "            generated_text += next_char\n",
        "            input_text = torch.tensor([[next_char_idx]], dtype=torch.long).to(device)\n",
        "\n",
        "    return generated_text"
      ]
    },
    {
      "cell_type": "code",
      "source": [
        "start_text = \"to be or not to be\"\n",
        "length = 200  # Длина генерируемого текста\n",
        "\n",
        "for temp in [0.1, 0.2, 0.5, 1.0, 2.0]:\n",
        "    print(f\"--- Temperature: {temp} ---\")\n",
        "    generated_text = generate_text_with_temperature(lstm_model, start_text, length, temp)\n",
        "    print(generated_text)\n",
        "    print(\"\\n\")"
      ],
      "metadata": {
        "colab": {
          "base_uri": "https://localhost:8080/"
        },
        "id": "JQ8G5V5qE-k6",
        "outputId": "235c8a86-be11-4c0a-e050-8f2173cc4a2b"
      },
      "execution_count": 50,
      "outputs": [
        {
          "output_type": "stream",
          "name": "stdout",
          "text": [
            "--- Temperature: 0.1 ---\n",
            "to be or not to be so, nor then thou art as the breath that thou art and there be there eyes of state,\n",
            "and therefore thy shadow sight,\n",
            "and spent,\n",
            "that thou thy self are you will be the true,\n",
            "and thee for my self alone,\n",
            "\n",
            "\n",
            "--- Temperature: 0.2 ---\n",
            "to be or not to be so, nor that which i have sweet to the searn's fair should but the right of the world will to the sweet stand and of all the world will one of all the wirther of the seal of thy sight,\n",
            "shall to the w\n",
            "\n",
            "\n",
            "--- Temperature: 0.5 ---\n",
            "to be or not to be such stays thee is blood sweet love doth work,\n",
            "the onceigh', or i love believe,\n",
            "thou let me still lose the tongue:\n",
            "on me to see thee from the hearth to more of well by done, but mayst thou thy sing.\n",
            "\n",
            "\n",
            "\n",
            "--- Temperature: 1.0 ---\n",
            "to be or not to be so longer 'igncears, and lost i can nature plays let the woubding dead so enduate;\n",
            "sent like thou hast thou despite and thee receives thee,\n",
            "lest your made or thy say.\n",
            "to since new as fading nefuled y\n",
            "\n",
            "\n",
            "--- Temperature: 2.0 ---\n",
            "to be or not to beweron.\n",
            "barl feedoou\n",
            "and.\n",
            "pity spuchliv'd come decay-wahvy of you you:\n",
            "yitl fiquiuage evy new;-svols eful-shadver'd mienx and prove:\n",
            "ereing,\n",
            "crikprso,\n",
            "siquz' accholip incelpa my living time hagkows you\n",
            "\n",
            "\n"
          ]
        }
      ]
    },
    {
      "cell_type": "markdown",
      "metadata": {
        "id": "UYxweT-IktT6"
      },
      "source": [
        "### Saving and loading models"
      ]
    },
    {
      "cell_type": "markdown",
      "metadata": {
        "id": "rBO9IbJbktT6"
      },
      "source": [
        "Save the model to the disk, then load it and generate text. Examples are available [here](https://pytorch.org/tutorials/beginner/saving_loading_models.html])."
      ]
    },
    {
      "cell_type": "code",
      "execution_count": 53,
      "metadata": {
        "collapsed": true,
        "colab": {
          "base_uri": "https://localhost:8080/",
          "height": 109
        },
        "id": "Bonwg8vDktT6",
        "outputId": "9cd680bc-14ca-4c5a-84a5-262862b8dc46"
      },
      "outputs": [
        {
          "output_type": "stream",
          "name": "stdout",
          "text": [
            "Модель сохранена в файл: model.pth\n",
            "Модель загружена и переведена в режим оценки\n",
            "\n"
          ]
        },
        {
          "output_type": "execute_result",
          "data": {
            "text/plain": [
              "\"to be or not to be time's still this thy seew,\\nbeing thy own what love, and this all is thy good have sweet with thine eye is in the face,\\nseeful so storn on the worstance unfairs, the lay still desired the self in giv\""
            ],
            "application/vnd.google.colaboratory.intrinsic+json": {
              "type": "string"
            }
          },
          "metadata": {},
          "execution_count": 53
        }
      ],
      "source": [
        "# Saving and loading code here\n",
        "torch.save(model, 'model.pth')\n",
        "print('Модель сохранена в файл: model.pth')\n",
        "\n",
        "# Загрузка модели\n",
        "model_loaded = torch.load('model.pth', weights_only=False)\n",
        "model_loaded.eval()  # Переводим модель в режим оценки\n",
        "print('Модель загружена и переведена в режим оценки')\n",
        "print()\n",
        "# Генерация текста загруженной моделью\n",
        "seed_text = \"to be or not to be\"\n",
        "print(generate_text_with_temperature(model, seed_text, length=200, temperature=0.5))"
      ]
    },
    {
      "cell_type": "markdown",
      "metadata": {
        "id": "vw5mJ8LzktT6"
      },
      "source": [
        "### References\n",
        "1. <a href='http://karpathy.github.io/2015/05/21/rnn-effectiveness/'> Andrew Karpathy blog post about RNN. </a>\n",
        "There are several examples of genration: Shakespeare texts, Latex formulas, Linux Sourse Code and children names.\n",
        "2. <a href='https://github.com/karpathy/char-rnn'> Repo with char-rnn code </a>\n",
        "3. Cool repo with PyTorch examples: [link](https://github.com/spro/practical-pytorch`)"
      ]
    }
  ],
  "metadata": {
    "anaconda-cloud": {},
    "kernelspec": {
      "display_name": "Python 3",
      "language": "python",
      "name": "python3"
    },
    "language_info": {
      "codemirror_mode": {
        "name": "ipython",
        "version": 3
      },
      "file_extension": ".py",
      "mimetype": "text/x-python",
      "name": "python",
      "nbconvert_exporter": "python",
      "pygments_lexer": "ipython3",
      "version": "3.7.7"
    },
    "colab": {
      "provenance": []
    }
  },
  "nbformat": 4,
  "nbformat_minor": 0
}