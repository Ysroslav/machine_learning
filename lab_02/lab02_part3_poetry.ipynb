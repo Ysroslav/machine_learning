{
  "cells": [
    {
      "cell_type": "markdown",
      "metadata": {
        "id": "50WyDkgbktTz"
      },
      "source": [
        "## Lab 2"
      ]
    },
    {
      "cell_type": "markdown",
      "metadata": {
        "id": "W8S9Ij-UktT1"
      },
      "source": [
        "### Part 3. Poetry generation\n",
        "\n",
        "Let's try to generate some poetry using RNNs.\n",
        "\n",
        "You have several choices here:\n",
        "\n",
        "* The Shakespeare sonnets, file `sonnets.txt` available in the notebook directory.\n",
        "\n",
        "* Роман в стихах \"Евгений Онегин\" Александра Сергеевича Пушкина. В предобработанном виде доступен по [ссылке](https://github.com/attatrol/data_sources/blob/master/onegin.txt).\n",
        "\n",
        "* Some other text source, if it will be approved by the course staff.\n",
        "\n",
        "Text generation can be designed in several steps:\n",
        "    \n",
        "1. Data loading.\n",
        "2. Dictionary generation.\n",
        "3. Data preprocessing.\n",
        "4. Model (neural network) training.\n",
        "5. Text generation (model evaluation).\n"
      ]
    },
    {
      "cell_type": "code",
      "execution_count": 1,
      "metadata": {
        "id": "W67gWi-XktT1"
      },
      "outputs": [],
      "source": [
        "import string\n",
        "import os"
      ]
    },
    {
      "cell_type": "markdown",
      "metadata": {
        "id": "wAKCNy4UktT2"
      },
      "source": [
        "### Data loading: Shakespeare"
      ]
    },
    {
      "cell_type": "markdown",
      "metadata": {
        "id": "Hv56EK0AktT2"
      },
      "source": [
        "Shakespeare sonnets are awailable at this [link](http://www.gutenberg.org/ebooks/1041?msg=welcome_stranger). In addition, they are stored in the same directory as this notebook (`sonnetes.txt`). Simple preprocessing is already done for you in the next cell: all technical info is dropped."
      ]
    },
    {
      "cell_type": "code",
      "execution_count": 2,
      "metadata": {
        "collapsed": true,
        "id": "xYSmOarGktT2"
      },
      "outputs": [],
      "source": [
        "if not os.path.exists('sonnets.txt'):\n",
        "    !wget https://raw.githubusercontent.com/girafe-ai/ml-course/22f_basic/homeworks_basic/lab02_deep_learning/sonnets.txt\n",
        "\n",
        "with open('sonnets.txt', 'r') as iofile:\n",
        "    text = iofile.readlines()\n",
        "\n",
        "TEXT_START = 45\n",
        "TEXT_END = -368\n",
        "text = text[TEXT_START : TEXT_END]\n",
        "assert len(text) == 2616"
      ]
    },
    {
      "cell_type": "markdown",
      "metadata": {
        "id": "oKS63DoAktT2"
      },
      "source": [
        "In opposite to the in-class practice, this time we want to predict complex text. Let's reduce the complexity of the task and lowercase all the symbols.\n",
        "\n",
        "Now variable `text` is a list of strings. Join all the strings into one and lowercase it."
      ]
    },
    {
      "cell_type": "code",
      "execution_count": 3,
      "metadata": {
        "colab": {
          "base_uri": "https://localhost:8080/"
        },
        "id": "pX6OFvOqktT3",
        "outputId": "1ce9471c-c0a9-473b-d80e-f7e145255a5b"
      },
      "outputs": [
        {
          "output_type": "stream",
          "name": "stdout",
          "text": [
            "OK!\n"
          ]
        }
      ],
      "source": [
        "# Join all the strings into one and lowercase it\n",
        "# Put result into variable text.\n",
        "\n",
        "# Your great code here\n",
        "text[0] = ' ' + text[0]\n",
        "text = ' '.join(text).lower().replace('\\n', '')\n",
        "\n",
        "assert len(text) == 100225, 'Are you sure you have concatenated all the strings?'\n",
        "assert not any([x in set(text) for x in string.ascii_uppercase]), 'Uppercase letters are present'\n",
        "print('OK!')"
      ]
    },
    {
      "cell_type": "markdown",
      "metadata": {
        "id": "HgBQL7CnktT3"
      },
      "source": [
        "### Data loading: \"Евгений Онегин\"\n"
      ]
    },
    {
      "cell_type": "code",
      "execution_count": null,
      "metadata": {
        "colab": {
          "base_uri": "https://localhost:8080/"
        },
        "id": "6KYWTIwuktT3",
        "outputId": "a43bc4fe-23a4-4502-d483-9c3b874d5a0d"
      },
      "outputs": [
        {
          "output_type": "stream",
          "name": "stdout",
          "text": [
            "--2024-12-14 10:03:13--  https://raw.githubusercontent.com/attatrol/data_sources/master/onegin.txt\n",
            "Resolving raw.githubusercontent.com (raw.githubusercontent.com)... 185.199.108.133, 185.199.109.133, 185.199.110.133, ...\n",
            "Connecting to raw.githubusercontent.com (raw.githubusercontent.com)|185.199.108.133|:443... connected.\n",
            "HTTP request sent, awaiting response... 200 OK\n",
            "Length: 262521 (256K) [text/plain]\n",
            "Saving to: ‘onegin.txt’\n",
            "\n",
            "\ronegin.txt            0%[                    ]       0  --.-KB/s               \ronegin.txt          100%[===================>] 256.37K  --.-KB/s    in 0.03s   \n",
            "\n",
            "2024-12-14 10:03:13 (9.89 MB/s) - ‘onegin.txt’ saved [262521/262521]\n",
            "\n"
          ]
        }
      ],
      "source": [
        "!wget https://raw.githubusercontent.com/attatrol/data_sources/master/onegin.txt\n",
        "\n",
        "with open('onegin.txt', 'r') as iofile:\n",
        "    text = iofile.readlines()\n",
        "\n",
        "text = [x.replace('\\t\\t', '') for x in text]"
      ]
    },
    {
      "cell_type": "markdown",
      "metadata": {
        "id": "CnooXOUkktT4"
      },
      "source": [
        "In opposite to the in-class practice, this time we want to predict complex text. Let's reduce the complexity of the task and lowercase all the symbols.\n",
        "\n",
        "Now variable `text` is a list of strings. Join all the strings into one and lowercase it."
      ]
    },
    {
      "cell_type": "code",
      "execution_count": null,
      "metadata": {
        "colab": {
          "base_uri": "https://localhost:8080/",
          "height": 201
        },
        "id": "nDRyPJAIktT4",
        "outputId": "8ab273ff-4f16-4e9f-d4ac-88fb3c6c7085"
      },
      "outputs": [
        {
          "output_type": "error",
          "ename": "TypeError",
          "evalue": "'str' object does not support item assignment",
          "traceback": [
            "\u001b[0;31m---------------------------------------------------------------------------\u001b[0m",
            "\u001b[0;31mTypeError\u001b[0m                                 Traceback (most recent call last)",
            "\u001b[0;32m<ipython-input-8-723c995b17b7>\u001b[0m in \u001b[0;36m<cell line: 5>\u001b[0;34m()\u001b[0m\n\u001b[1;32m      3\u001b[0m \u001b[0;34m\u001b[0m\u001b[0m\n\u001b[1;32m      4\u001b[0m \u001b[0;31m# Your great code here\u001b[0m\u001b[0;34m\u001b[0m\u001b[0;34m\u001b[0m\u001b[0m\n\u001b[0;32m----> 5\u001b[0;31m \u001b[0mtext\u001b[0m\u001b[0;34m[\u001b[0m\u001b[0;36m0\u001b[0m\u001b[0;34m]\u001b[0m \u001b[0;34m=\u001b[0m \u001b[0;34m' '\u001b[0m \u001b[0;34m+\u001b[0m \u001b[0mtext\u001b[0m\u001b[0;34m[\u001b[0m\u001b[0;36m0\u001b[0m\u001b[0;34m]\u001b[0m\u001b[0;34m\u001b[0m\u001b[0;34m\u001b[0m\u001b[0m\n\u001b[0m\u001b[1;32m      6\u001b[0m \u001b[0mtext\u001b[0m \u001b[0;34m=\u001b[0m \u001b[0;34m' '\u001b[0m\u001b[0;34m.\u001b[0m\u001b[0mjoin\u001b[0m\u001b[0;34m(\u001b[0m\u001b[0mtext\u001b[0m\u001b[0;34m)\u001b[0m\u001b[0;34m.\u001b[0m\u001b[0mlower\u001b[0m\u001b[0;34m(\u001b[0m\u001b[0;34m)\u001b[0m\u001b[0;34m.\u001b[0m\u001b[0mreplace\u001b[0m\u001b[0;34m(\u001b[0m\u001b[0;34m'\\n'\u001b[0m\u001b[0;34m,\u001b[0m \u001b[0;34m''\u001b[0m\u001b[0;34m)\u001b[0m\u001b[0;34m\u001b[0m\u001b[0;34m\u001b[0m\u001b[0m\n",
            "\u001b[0;31mTypeError\u001b[0m: 'str' object does not support item assignment"
          ]
        }
      ],
      "source": [
        "# Join all the strings into one and lowercase it\n",
        "# Put result into variable text.\n",
        "\n",
        "# Your great code here\n",
        "text[0] = ' ' + text[0]\n",
        "text = ' '.join(text).lower().replace('\\n', '')\n"
      ]
    },
    {
      "cell_type": "markdown",
      "metadata": {
        "id": "bWq17quhktT4"
      },
      "source": [
        "Put all the characters, that you've seen in the text, into variable `tokens`."
      ]
    },
    {
      "cell_type": "code",
      "execution_count": 4,
      "metadata": {
        "id": "aJtop0AwktT4"
      },
      "outputs": [],
      "source": [
        "tokens = sorted(set(text))"
      ]
    },
    {
      "cell_type": "markdown",
      "metadata": {
        "id": "QQgo4mfoktT4"
      },
      "source": [
        "Create dictionary `token_to_idx = {<char>: <index>}` and dictionary `idx_to_token = {<index>: <char>}`"
      ]
    },
    {
      "cell_type": "code",
      "execution_count": 5,
      "metadata": {
        "collapsed": true,
        "colab": {
          "base_uri": "https://localhost:8080/"
        },
        "id": "iQuMCiu8ktT4",
        "outputId": "40ffa90a-7aa8-4856-bdde-9b83af97ad78"
      },
      "outputs": [
        {
          "output_type": "stream",
          "name": "stdout",
          "text": [
            "Tokens: [' ', '!', \"'\", '(', ')', ',', '-', '.', ':', ';', '?', 'a', 'b', 'c', 'd', 'e', 'f', 'g', 'h', 'i', 'j', 'k', 'l', 'm', 'n', 'o', 'p', 'q', 'r', 's', 't', 'u', 'v', 'w', 'x', 'y', 'z']\n",
            "Token to index: {' ': 0, '!': 1, \"'\": 2, '(': 3, ')': 4, ',': 5, '-': 6, '.': 7, ':': 8, ';': 9, '?': 10, 'a': 11, 'b': 12, 'c': 13, 'd': 14, 'e': 15, 'f': 16, 'g': 17, 'h': 18, 'i': 19, 'j': 20, 'k': 21, 'l': 22, 'm': 23, 'n': 24, 'o': 25, 'p': 26, 'q': 27, 'r': 28, 's': 29, 't': 30, 'u': 31, 'v': 32, 'w': 33, 'x': 34, 'y': 35, 'z': 36}\n",
            "Index to token: {0: ' ', 1: '!', 2: \"'\", 3: '(', 4: ')', 5: ',', 6: '-', 7: '.', 8: ':', 9: ';', 10: '?', 11: 'a', 12: 'b', 13: 'c', 14: 'd', 15: 'e', 16: 'f', 17: 'g', 18: 'h', 19: 'i', 20: 'j', 21: 'k', 22: 'l', 23: 'm', 24: 'n', 25: 'o', 26: 'p', 27: 'q', 28: 'r', 29: 's', 30: 't', 31: 'u', 32: 'v', 33: 'w', 34: 'x', 35: 'y', 36: 'z'}\n"
          ]
        }
      ],
      "source": [
        "# dict <index>:<char>\n",
        "# Your great code here\n",
        "# Словарь: символ - индекс\n",
        "token_to_idx = {char: idx for idx, char in enumerate(tokens)}\n",
        "\n",
        "# Your great code here\n",
        "#Словарь: индекс - символ\n",
        "idx_to_char = {idx: char for idx, char in enumerate(tokens)}\n",
        "\n",
        "print(\"Tokens:\", tokens)\n",
        "print(\"Token to index:\", token_to_idx)\n",
        "print(\"Index to token:\", idx_to_char)"
      ]
    },
    {
      "cell_type": "markdown",
      "metadata": {
        "id": "1-BzfazFktT4"
      },
      "source": [
        "*Comment: in this task we have only 38 different tokens, so let's use one-hot encoding.*"
      ]
    },
    {
      "cell_type": "code",
      "source": [
        "import numpy as np\n",
        "\n",
        "# размер словаря\n",
        "vocab_size = len(tokens)\n",
        "\n",
        "# Преобразование текста в матрицу one-hot encoding\n",
        "def one_hot_encode(text, vocab_size):\n",
        "    one_hot_matrix = np.zeros((len(text), vocab_size), dtype=np.float32)\n",
        "    for i, char in enumerate(text):\n",
        "      # Заполняем единицей позицию вектора соответствующего символа\n",
        "        one_hot_matrix[i, token_to_idx[char]] = 1\n",
        "    return one_hot_matrix"
      ],
      "metadata": {
        "id": "IqqA0lnjqAaN"
      },
      "execution_count": 6,
      "outputs": []
    },
    {
      "cell_type": "markdown",
      "metadata": {
        "id": "tci93SRZktT4"
      },
      "source": [
        "### Building the model"
      ]
    },
    {
      "cell_type": "markdown",
      "metadata": {
        "id": "lg7JG0P6ktT5"
      },
      "source": [
        "Now we want to build and train recurrent neural net which would be able to something similar to Shakespeare's poetry.\n",
        "\n",
        "Let's use vanilla RNN, similar to the one created during the lesson."
      ]
    },
    {
      "cell_type": "code",
      "execution_count": 7,
      "metadata": {
        "collapsed": true,
        "id": "A1ZUawa9ktT5"
      },
      "outputs": [],
      "source": [
        "import torch\n",
        "import torch.nn as nn\n",
        "import numpy as np\n",
        "from torch.utils.data import Dataset, DataLoader\n",
        "\n",
        "# Your code here\n",
        "class VanillaRNN(nn.Module):\n",
        "    def __init__(self, vocab_size, embed_size, hidden_size):\n",
        "        super(VanillaRNN, self).__init__()\n",
        "        self.embedding = nn.Embedding(vocab_size, embed_size)\n",
        "        self.rnn = nn.RNN(embed_size, hidden_size, batch_first=True)\n",
        "        self.fc = nn.Linear(hidden_size, vocab_size)\n",
        "\n",
        "    def forward(self, x, hidden):\n",
        "        x = self.embedding(x)\n",
        "        out, hidden = self.rnn(x, hidden)\n",
        "        out = self.fc(out)\n",
        "        return out, hidden\n",
        "\n",
        "embedding_size = 64\n",
        "hidden_size = 128\n",
        "learning_rate = 0.001\n",
        "vocab_size = len(tokens)\n",
        "device = torch.device('cuda' if torch.cuda.is_available() else 'cpu')\n",
        "model = VanillaRNN(vocab_size, embedding_size, hidden_size).to(device)\n",
        "criterion = nn.CrossEntropyLoss()\n",
        "optimizer = torch.optim.Adam(model.parameters(), lr=learning_rate)"
      ]
    },
    {
      "cell_type": "markdown",
      "metadata": {
        "id": "0PrZ61DHktT5"
      },
      "source": [
        "Plot the loss function (axis X: number of epochs, axis Y: loss function)."
      ]
    },
    {
      "cell_type": "code",
      "source": [
        "EPOCHS = 40\n",
        "BATCH_SIZE = 2048\n",
        "sequence_length = 100"
      ],
      "metadata": {
        "id": "kDgXIa-9uQsq"
      },
      "execution_count": 8,
      "outputs": []
    },
    {
      "cell_type": "code",
      "source": [
        "# Подготовка данных для обучения\n",
        "class TextDataset(Dataset):\n",
        "    def __init__(self, text, char_to_idx, seq_len):\n",
        "        self.text = text\n",
        "        self.char_to_idx = char_to_idx\n",
        "        self.seq_len = seq_len\n",
        "        self.data = [char_to_idx[ch] for ch in text]\n",
        "\n",
        "    def __len__(self):\n",
        "        return len(self.data) - self.seq_len\n",
        "\n",
        "    def __getitem__(self, idx):\n",
        "        x = self.data[idx:idx + self.seq_len]\n",
        "        y = self.data[idx + 1:idx + self.seq_len + 1]\n",
        "        return torch.tensor(x, dtype=torch.long), torch.tensor(y, dtype=torch.long)\n",
        "\n",
        "dataset = TextDataset(text, token_to_idx, sequence_length)\n",
        "dataloader = DataLoader(dataset, batch_size=BATCH_SIZE, shuffle=True)"
      ],
      "metadata": {
        "id": "2T9DagYat7Tc"
      },
      "execution_count": 9,
      "outputs": []
    },
    {
      "cell_type": "code",
      "source": [
        "#Для хранения значения потерь\n",
        "loss_history = []\n",
        "\n",
        "#запуск обучения\n",
        "for epoch in range(EPOCHS):\n",
        "    hidden = None\n",
        "    total_loss = 0\n",
        "    for i, (inputs, targets) in enumerate(dataloader):\n",
        "        inputs, targets = inputs.to(device), targets.to(device)\n",
        "\n",
        "        # Инициализация скрытого состояния для текущего батча\n",
        "        hidden = torch.zeros(1, inputs.size(0), hidden_size).to(device)\n",
        "\n",
        "        optimizer.zero_grad()\n",
        "        outputs, hidden = model(inputs, hidden)\n",
        "\n",
        "        loss = criterion(outputs.view(-1, vocab_size), targets.view(-1))\n",
        "        loss.backward()\n",
        "        optimizer.step()\n",
        "\n",
        "        total_loss += loss.item()\n",
        "\n",
        "    avg_loss = total_loss / len(dataloader)\n",
        "    loss_history.append(avg_loss)\n",
        "    print(f\"Epoch [{epoch+1}/{EPOCHS}], Loss: {avg_loss:.4f}\")\n",
        "\n",
        "torch.save(model, 'vRNN.pth')"
      ],
      "metadata": {
        "colab": {
          "base_uri": "https://localhost:8080/"
        },
        "id": "a8LJu5SkutKs",
        "outputId": "33606d28-5e08-48d7-a387-92457c2042ef"
      },
      "execution_count": 10,
      "outputs": [
        {
          "output_type": "stream",
          "name": "stdout",
          "text": [
            "Epoch [1/40], Loss: 2.7595\n",
            "Epoch [2/40], Loss: 2.2608\n",
            "Epoch [3/40], Loss: 2.0545\n",
            "Epoch [4/40], Loss: 1.9293\n",
            "Epoch [5/40], Loss: 1.8430\n",
            "Epoch [6/40], Loss: 1.7762\n",
            "Epoch [7/40], Loss: 1.7212\n",
            "Epoch [8/40], Loss: 1.6747\n",
            "Epoch [9/40], Loss: 1.6350\n",
            "Epoch [10/40], Loss: 1.6007\n",
            "Epoch [11/40], Loss: 1.5704\n",
            "Epoch [12/40], Loss: 1.5436\n",
            "Epoch [13/40], Loss: 1.5195\n",
            "Epoch [14/40], Loss: 1.4978\n",
            "Epoch [15/40], Loss: 1.4782\n",
            "Epoch [16/40], Loss: 1.4601\n",
            "Epoch [17/40], Loss: 1.4434\n",
            "Epoch [18/40], Loss: 1.4279\n",
            "Epoch [19/40], Loss: 1.4134\n",
            "Epoch [20/40], Loss: 1.4000\n",
            "Epoch [21/40], Loss: 1.3872\n",
            "Epoch [22/40], Loss: 1.3752\n",
            "Epoch [23/40], Loss: 1.3639\n",
            "Epoch [24/40], Loss: 1.3531\n",
            "Epoch [25/40], Loss: 1.3429\n",
            "Epoch [26/40], Loss: 1.3334\n",
            "Epoch [27/40], Loss: 1.3240\n",
            "Epoch [28/40], Loss: 1.3154\n",
            "Epoch [29/40], Loss: 1.3069\n",
            "Epoch [30/40], Loss: 1.2991\n",
            "Epoch [31/40], Loss: 1.2915\n",
            "Epoch [32/40], Loss: 1.2845\n",
            "Epoch [33/40], Loss: 1.2778\n",
            "Epoch [34/40], Loss: 1.2714\n",
            "Epoch [35/40], Loss: 1.2654\n",
            "Epoch [36/40], Loss: 1.2600\n",
            "Epoch [37/40], Loss: 1.2547\n",
            "Epoch [38/40], Loss: 1.2499\n",
            "Epoch [39/40], Loss: 1.2454\n",
            "Epoch [40/40], Loss: 1.2410\n"
          ]
        }
      ]
    },
    {
      "cell_type": "code",
      "execution_count": 12,
      "metadata": {
        "collapsed": true,
        "colab": {
          "base_uri": "https://localhost:8080/",
          "height": 564
        },
        "id": "pBWa69BnktT5",
        "outputId": "ecafd588-fdbe-4f5c-bc97-22ec9ce85d43"
      },
      "outputs": [
        {
          "output_type": "display_data",
          "data": {
            "text/plain": [
              "<Figure size 1000x600 with 1 Axes>"
            ],
            "image/png": "[encoded data removed]"
          },
          "metadata": {}
        }
      ],
      "source": [
        "# Your plot code here\n",
        "import matplotlib.pyplot as plt\n",
        "\n",
        "# Визуализация функции потерь\n",
        "plt.figure(figsize=(10, 6))\n",
        "plt.plot(range(1, EPOCHS + 1), loss_history, marker='o')\n",
        "plt.title('Loss vs Epoch')\n",
        "plt.xlabel('Epoch')\n",
        "plt.ylabel('Loss')\n",
        "plt.grid()\n",
        "plt.show()"
      ]
    },
    {
      "cell_type": "code",
      "source": [
        "model = torch.load('vRNN.pth', weights_only=False)"
      ],
      "metadata": {
        "id": "Wpvhq7Ah6iVu"
      },
      "execution_count": 13,
      "outputs": []
    },
    {
      "cell_type": "code",
      "execution_count": 14,
      "metadata": {
        "id": "2kvtWY8yktT5"
      },
      "outputs": [],
      "source": [
        "import torch.nn.functional as F\n",
        "\n",
        "def generate_text(model, start_text, length, temperature = 1.0):\n",
        "    model.eval()\n",
        "    input_text = torch.tensor([token_to_idx[ch] for ch in start_text], dtype=torch.long).unsqueeze(0).to(device)\n",
        "    hidden = None\n",
        "    generated_text = start_text\n",
        "\n",
        "    with torch.no_grad():\n",
        "        for _ in range(length):\n",
        "            output, hidden = model(input_text, hidden)\n",
        "            next_char_idx = torch.argmax(output[:, -1, :]).item()\n",
        "            next_char = idx_to_char[next_char_idx]\n",
        "            generated_text += next_char\n",
        "            input_text = torch.tensor([[next_char_idx]], dtype=torch.long).to(device)\n",
        "\n",
        "    return generated_text"
      ]
    },
    {
      "cell_type": "code",
      "execution_count": 15,
      "metadata": {
        "colab": {
          "base_uri": "https://localhost:8080/"
        },
        "id": "IaAuVy0WktT5",
        "outputId": "d74aea2a-c6fd-41eb-9c6d-fb0f7dac8547"
      },
      "outputs": [
        {
          "output_type": "stream",
          "name": "stdout",
          "text": [
            "the cat goes home on friday doth lie,   and the world that i am some eyes were but the world that i am some eyes were but the world that i am some eyes were but the world that i am some eyes were but the world that i am some eyes were but the world that i am some eyes were but the world that i am some eyes were but the world that i am some eyes were but the world that i am some eyes were but the world that i am some eyes were but the world that i am some eyes were but the world that i am some eyes were but the world that \n"
          ]
        }
      ],
      "source": [
        "# An example of generated text.\n",
        "# print(generate_text(length=500, temperature=0.2))\n",
        "\n",
        "start_text = \"the cat goes home on friday\"  # Replace with your own starting sequence\n",
        "print(generate_text(model, start_text, 500, 0.2))"
      ]
    },
    {
      "cell_type": "markdown",
      "metadata": {
        "id": "8P6r2qskktT5"
      },
      "source": [
        "### More poetic model\n",
        "\n",
        "Let's use LSTM instead of vanilla RNN and compare the results."
      ]
    },
    {
      "cell_type": "markdown",
      "metadata": {
        "id": "z4U7sDUvktT6"
      },
      "source": [
        "Plot the loss function of the number of epochs. Does the final loss become better?"
      ]
    },
    {
      "cell_type": "code",
      "execution_count": 16,
      "metadata": {
        "collapsed": true,
        "id": "WgkbWqilktT6"
      },
      "outputs": [],
      "source": [
        "# Your beautiful code here\n",
        "class LSTMModel(nn.Module):\n",
        "    def __init__(self, vocab_size, embed_size, hidden_size):\n",
        "        super(LSTMModel, self).__init__()\n",
        "        self.embedding = nn.Embedding(vocab_size, embed_size)\n",
        "        self.lstm = nn.LSTM(embed_size, hidden_size, batch_first=True)\n",
        "        self.fc = nn.Linear(hidden_size, vocab_size)\n",
        "\n",
        "    def forward(self, x, hidden):\n",
        "        x = self.embedding(x)\n",
        "        out, hidden = self.lstm(x, hidden)\n",
        "        out = self.fc(out)\n",
        "        return out, hidden"
      ]
    },
    {
      "cell_type": "code",
      "source": [
        "# Инициализация LSTM model\n",
        "lstm_model = LSTMModel(vocab_size, embedding_size, hidden_size).to(device)\n",
        "\n",
        "# Функция потерь и optimizer для LSTM\n",
        "criterion = nn.CrossEntropyLoss()\n",
        "optimizer = torch.optim.Adam(lstm_model.parameters(), lr=learning_rate)\n",
        "\n",
        "# Для хранения функции потерь\n",
        "lstm_loss_history = []\n",
        "# запуск обучения для LSTM\n",
        "for epoch in range(EPOCHS):\n",
        "    total_loss = 0\n",
        "\n",
        "    for i, (inputs, targets) in enumerate(dataloader):\n",
        "        inputs, targets = inputs.to(device), targets.to(device)\n",
        "        batch_size = inputs.size(0)\n",
        "\n",
        "        hidden = (torch.zeros(1, batch_size, hidden_size).to(device),\n",
        "              torch.zeros(1, batch_size, hidden_size).to(device))  # LSTM hidden state (h, c)\n",
        "\n",
        "        if hidden is None or hidden[0].size(1) != batch_size:\n",
        "            # Повторно инициализируйте скрытое состояние, если это первый пакет или изменяется размер пакета\n",
        "            hidden = (\n",
        "                torch.zeros(1, batch_size, hidden_size).to(device),\n",
        "                torch.zeros(1, batch_size, hidden_size).to(device)\n",
        "            )\n",
        "        else:\n",
        "            # Detach скрытого состояния от графика вычислений, чтобы предотвратить повторный просмотр истории\n",
        "            hidden = tuple(h.detach() for h in hidden)\n",
        "\n",
        "\n",
        "        optimizer.zero_grad()\n",
        "        outputs, hidden = lstm_model(inputs, hidden)\n",
        "        hidden = tuple([h.detach() for h in hidden])  # Detach скрытого состояния, чтобы предотвратить повторный просмотр истории\n",
        "\n",
        "        loss = criterion(outputs.view(-1, vocab_size), targets.view(-1))\n",
        "        loss.backward()\n",
        "        optimizer.step()\n",
        "\n",
        "        total_loss += loss.item()\n",
        "\n",
        "    avg_loss = total_loss / len(dataloader)\n",
        "    lstm_loss_history.append(avg_loss)\n",
        "    print(f\"LSTM Epoch [{epoch+1}/{EPOCHS}], Loss: {avg_loss:.4f}\")"
      ],
      "metadata": {
        "colab": {
          "base_uri": "https://localhost:8080/"
        },
        "id": "zPbh07n64e_L",
        "outputId": "179a4476-4d91-4f29-d12d-063e489a3341"
      },
      "execution_count": 17,
      "outputs": [
        {
          "output_type": "stream",
          "name": "stdout",
          "text": [
            "LSTM Epoch [1/40], Loss: 2.8978\n",
            "LSTM Epoch [2/40], Loss: 2.3608\n",
            "LSTM Epoch [3/40], Loss: 2.1142\n",
            "LSTM Epoch [4/40], Loss: 1.9593\n",
            "LSTM Epoch [5/40], Loss: 1.8520\n",
            "LSTM Epoch [6/40], Loss: 1.7757\n",
            "LSTM Epoch [7/40], Loss: 1.7168\n",
            "LSTM Epoch [8/40], Loss: 1.6686\n",
            "LSTM Epoch [9/40], Loss: 1.6275\n",
            "LSTM Epoch [10/40], Loss: 1.5913\n",
            "LSTM Epoch [11/40], Loss: 1.5590\n",
            "LSTM Epoch [12/40], Loss: 1.5298\n",
            "LSTM Epoch [13/40], Loss: 1.5029\n",
            "LSTM Epoch [14/40], Loss: 1.4777\n",
            "LSTM Epoch [15/40], Loss: 1.4537\n",
            "LSTM Epoch [16/40], Loss: 1.4311\n",
            "LSTM Epoch [17/40], Loss: 1.4099\n",
            "LSTM Epoch [18/40], Loss: 1.3899\n",
            "LSTM Epoch [19/40], Loss: 1.3709\n",
            "LSTM Epoch [20/40], Loss: 1.3523\n",
            "LSTM Epoch [21/40], Loss: 1.3346\n",
            "LSTM Epoch [22/40], Loss: 1.3171\n",
            "LSTM Epoch [23/40], Loss: 1.3003\n",
            "LSTM Epoch [24/40], Loss: 1.2839\n",
            "LSTM Epoch [25/40], Loss: 1.2678\n",
            "LSTM Epoch [26/40], Loss: 1.2520\n",
            "LSTM Epoch [27/40], Loss: 1.2366\n",
            "LSTM Epoch [28/40], Loss: 1.2216\n",
            "LSTM Epoch [29/40], Loss: 1.2070\n",
            "LSTM Epoch [30/40], Loss: 1.1927\n",
            "LSTM Epoch [31/40], Loss: 1.1786\n",
            "LSTM Epoch [32/40], Loss: 1.1650\n",
            "LSTM Epoch [33/40], Loss: 1.1519\n",
            "LSTM Epoch [34/40], Loss: 1.1390\n",
            "LSTM Epoch [35/40], Loss: 1.1266\n",
            "LSTM Epoch [36/40], Loss: 1.1144\n",
            "LSTM Epoch [37/40], Loss: 1.1035\n",
            "LSTM Epoch [38/40], Loss: 1.0920\n",
            "LSTM Epoch [39/40], Loss: 1.0815\n",
            "LSTM Epoch [40/40], Loss: 1.0715\n"
          ]
        }
      ]
    },
    {
      "cell_type": "code",
      "source": [
        "torch.save(model, 'LTSM.pth')"
      ],
      "metadata": {
        "id": "zu7_FZ2uYkfx"
      },
      "execution_count": 18,
      "outputs": []
    },
    {
      "cell_type": "code",
      "source": [
        "import matplotlib.pyplot as plt\n",
        "# Визуализация функции потерь для Vanilla RNN и LSTM\n",
        "plt.figure(figsize=(10, 6))\n",
        "plt.plot(range(1, EPOCHS + 1), loss_history, marker='o', label='Vanilla RNN')\n",
        "plt.plot(range(1, EPOCHS + 1), lstm_loss_history, marker='s', label='LSTM')\n",
        "plt.title('Loss vs Epoch')\n",
        "plt.xlabel('Epoch')\n",
        "plt.ylabel('Loss')\n",
        "plt.legend()\n",
        "plt.grid()\n",
        "plt.show()"
      ],
      "metadata": {
        "colab": {
          "base_uri": "https://localhost:8080/",
          "height": 564
        },
        "id": "lX3aGvMo5Mt5",
        "outputId": "4df45a20-fa34-4ff2-8d20-a9a4ad1c1f68"
      },
      "execution_count": 19,
      "outputs": [
        {
          "output_type": "display_data",
          "data": {
            "text/plain": [
              "<Figure size 1000x600 with 1 Axes>"
            ],
            "image/png": "[encoded data removed]"
          },
          "metadata": {}
        }
      ]
    },
    {
      "cell_type": "markdown",
      "source": [
        "# Vanilla RNN:\n",
        "\n",
        "1) Страдает от проблемы затухающих или взрывающихся градиентов, из-за чего плохо обучается на длинных последовательностях.\n",
        "\n",
        "2) Ограничена в моделировании долгосрочных зависимостей.\n",
        "\n",
        "# LSTM:\n",
        "\n",
        "1) Решает проблему затухающих градиентов благодаря механизму гейтов и прямому переносу информации через ячейки памяти.\n",
        "\n",
        "2) Эффективно работает с длинными последовательностями.\n",
        "\n",
        "# Скорость вычислений и ресурсы:\n",
        "\n",
        "1) Vanilla RNN:\n",
        "\n",
        "Легче и быстрее обучается, так как у нее меньше параметров и простая структура.\n",
        "Подходит для задач, где важна скорость и последовательности короткие.\n",
        "\n",
        "2) LSTM:\n",
        "\n",
        "Более ресурсоемкая из-за сложной структуры (гейты, ячейки памяти).\n",
        "Замедляется на больших наборах данных, но часто оправдана для сложных задач."
      ],
      "metadata": {
        "id": "lgs48G35-58o"
      }
    },
    {
      "cell_type": "markdown",
      "metadata": {
        "id": "t4T5qo2qktT6"
      },
      "source": [
        "Generate text using the trained net with different `temperature` parameter: `[0.1, 0.2, 0.5, 1.0, 2.0]`.\n",
        "\n",
        "Evaluate the results visually, try to interpret them."
      ]
    },
    {
      "cell_type": "code",
      "execution_count": 20,
      "metadata": {
        "collapsed": true,
        "id": "4I-6jsS_ktT6"
      },
      "outputs": [],
      "source": [
        "import torch.nn.functional as F\n",
        "# Функция для генерации текста с различными значениями temperature\n",
        "def generate_text_with_temperature(model, start_text, length, temperature):\n",
        "    model.eval()\n",
        "    input_text = torch.tensor([token_to_idx[ch] for ch in start_text], dtype=torch.long).unsqueeze(0).to(device)\n",
        "    hidden = (torch.zeros(1, 1, hidden_size).to(device), torch.zeros(1, 1, hidden_size).to(device))  # For LSTM\n",
        "    generated_text = start_text\n",
        "\n",
        "    with torch.no_grad():\n",
        "        for _ in range(length):\n",
        "            output, hidden = model(input_text, hidden)\n",
        "            output = output[:, -1, :]  # Focus на последнем символе в последовательности\n",
        "\n",
        "            # масштабирование temperature\n",
        "            scaled_logits = output / temperature\n",
        "            probabilities = F.softmax(scaled_logits, dim=-1).cpu().numpy().flatten()\n",
        "\n",
        "            # Нормализация вероятности (при необходимости) и выбор следующего символа\n",
        "            probabilities /= probabilities.sum()\n",
        "            next_char_idx = np.random.choice(len(probabilities), p=probabilities)\n",
        "            next_char = idx_to_char[next_char_idx]\n",
        "\n",
        "            generated_text += next_char\n",
        "            input_text = torch.tensor([[next_char_idx]], dtype=torch.long).to(device)\n",
        "\n",
        "    return generated_text"
      ]
    },
    {
      "cell_type": "code",
      "source": [
        "start_text = \"to be or not to be\"\n",
        "length = 200  # Длина генерируемого текста\n",
        "\n",
        "for temp in [0.1, 0.2, 0.5, 1.0, 2.0]:\n",
        "    print(f\"--- Temperature: {temp} ---\")\n",
        "    generated_text = generate_text_with_temperature(lstm_model, start_text, length, temp)\n",
        "    print(generated_text)\n",
        "    print(\"\\n\")"
      ],
      "metadata": {
        "colab": {
          "base_uri": "https://localhost:8080/"
        },
        "id": "JQ8G5V5qE-k6",
        "outputId": "ab8e0323-29ab-4456-b7c8-b0d28d482c98"
      },
      "execution_count": 21,
      "outputs": [
        {
          "output_type": "stream",
          "name": "stdout",
          "text": [
            "--- Temperature: 0.1 ---\n",
            "to be or not to be such some fair,   and there i am some intery the better stand age,   the world and the world and the spends of such a say the world come to dear love,   that thou to the world is the spend   the worl\n",
            "\n",
            "\n",
            "--- Temperature: 0.2 ---\n",
            "to be or not to be sun,   and strange so soor love's say so such a say the worthy newer fair,   and there i am some interest in the world and make the seat,   which think the strangely parts of thee that the strength o\n",
            "\n",
            "\n",
            "--- Temperature: 0.5 ---\n",
            "to be or not to be subscroak.    xxix    that is my love you desert so see.    cxxxvii    so thou art my heart there is the worth, when thou art when thou dost true more,     for i to the frowns of their grows,     and\n",
            "\n",
            "\n",
            "--- Temperature: 1.0 ---\n",
            "to be or not to be;     i amaning a glasion fires with thy love, stright,   and hath he life.    lxviii    but thou hast in hope, advair forwings,   of thy am macking time for love's gone.   much now,     but as fair b\n",
            "\n",
            "\n",
            "--- Temperature: 2.0 ---\n",
            "to be or not to be.   yol lonl'd i kill.   my yet otneavc; and thot wear! aginfic-graws. ly nwit'ghly blow,   mine usk onehood, smexiven boxxd's;   west vyle thinlings, agespite puccelless,     antiuds habetewarfm famb\n",
            "\n",
            "\n"
          ]
        }
      ]
    },
    {
      "cell_type": "markdown",
      "metadata": {
        "id": "UYxweT-IktT6"
      },
      "source": [
        "### Saving and loading models"
      ]
    },
    {
      "cell_type": "markdown",
      "metadata": {
        "id": "rBO9IbJbktT6"
      },
      "source": [
        "Save the model to the disk, then load it and generate text. Examples are available [here](https://pytorch.org/tutorials/beginner/saving_loading_models.html])."
      ]
    },
    {
      "cell_type": "code",
      "execution_count": 25,
      "metadata": {
        "collapsed": true,
        "colab": {
          "base_uri": "https://localhost:8080/"
        },
        "id": "Bonwg8vDktT6",
        "outputId": "c36d8657-5939-469d-b7f7-bf082110132b"
      },
      "outputs": [
        {
          "output_type": "stream",
          "name": "stdout",
          "text": [
            "Модель сохранена в файл: model.pth\n",
            "Модель загружена и переведена в режим оценки\n",
            "\n",
            "to be or not to be strain'd,   and i am thine own self are shape, i self-sumest thy mony;   but doth says in him all many,   and this with this cherse of thy self too are sait,   though that is thy love and thine,   as\n"
          ]
        }
      ],
      "source": [
        "# Saving and loading code here\n",
        "torch.save(model, 'model.pth')\n",
        "print('Модель сохранена в файл: model.pth')\n",
        "\n",
        "# Загрузка модели\n",
        "model_loaded = torch.load('model.pth', weights_only=False)\n",
        "model_loaded.eval()  # Переводим модель в режим оценки\n",
        "print('Модель загружена и переведена в режим оценки')\n",
        "print()\n",
        "# Генерация текста загруженной моделью\n",
        "seed_text = \"to be or not to be\"\n",
        "print(generate_text_with_temperature(model, seed_text, length=200, temperature=0.5))"
      ]
    },
    {
      "cell_type": "markdown",
      "metadata": {
        "id": "vw5mJ8LzktT6"
      },
      "source": [
        "### References\n",
        "1. <a href='http://karpathy.github.io/2015/05/21/rnn-effectiveness/'> Andrew Karpathy blog post about RNN. </a>\n",
        "There are several examples of genration: Shakespeare texts, Latex formulas, Linux Sourse Code and children names.\n",
        "2. <a href='https://github.com/karpathy/char-rnn'> Repo with char-rnn code </a>\n",
        "3. Cool repo with PyTorch examples: [link](https://github.com/spro/practical-pytorch`)"
      ]
    }
  ],
  "metadata": {
    "anaconda-cloud": {},
    "kernelspec": {
      "display_name": "Python 3",
      "language": "python",
      "name": "python3"
    },
    "language_info": {
      "codemirror_mode": {
        "name": "ipython",
        "version": 3
      },
      "file_extension": ".py",
      "mimetype": "text/x-python",
      "name": "python",
      "nbconvert_exporter": "python",
      "pygments_lexer": "ipython3",
      "version": "3.7.7"
    },
    "colab": {
      "provenance": []
    }
  },
  "nbformat": 4,
  "nbformat_minor": 0
}