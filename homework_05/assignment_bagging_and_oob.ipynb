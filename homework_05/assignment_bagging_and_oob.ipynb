{
  "cells": [
    {
      "cell_type": "markdown",
      "id": "119c9460",
      "metadata": {
        "id": "119c9460"
      },
      "source": [
        "## Home assignment 05: Bagging and OOB score\n",
        "\n",
        "Please, fill the lines in the code below.\n",
        "This is a simplified version of `BaggingRegressor` from `sklearn`. Please, notice, that `sklearn` API is **not preserved**.\n",
        "\n",
        "Your algorithm should be able to train different instances of the same model class on bootstrapped datasets and to provide [OOB score](https://en.wikipedia.org/wiki/Out-of-bag_error) for the training set.\n",
        "\n",
        "The model should be passed as model class with no explicit parameters and no parentheses.\n",
        "\n",
        "Example:\n",
        "```\n",
        "import numpy as np\n",
        "from sklearn.linear_model import LinearRegression\n",
        "\n",
        "bagging_regressor = SimplifiedBaggingRegressor(num_bags=10, oob=True)\n",
        "bagging_regressor.fit(LinearRegression, X, y)\n",
        "\n",
        "```"
      ]
    },
    {
      "cell_type": "code",
      "execution_count": 1,
      "id": "31ecde34",
      "metadata": {
        "id": "31ecde34"
      },
      "outputs": [],
      "source": [
        "import numpy as np"
      ]
    },
    {
      "cell_type": "code",
      "execution_count": 2,
      "id": "06110580",
      "metadata": {
        "id": "06110580"
      },
      "outputs": [],
      "source": [
        "class SimplifiedBaggingRegressor:\n",
        "    def __init__(self, num_bags, oob=False):\n",
        "        self.num_bags = num_bags\n",
        "        self.oob = oob\n",
        "\n",
        "    def _generate_splits(self, data: np.ndarray):\n",
        "        '''\n",
        "        Generate indices for every bag and store in self.indices_list list\n",
        "        '''\n",
        "        self.indices_list = []\n",
        "        data_length = len(data)\n",
        "        for bag in range(self.num_bags):\n",
        "            # Your Code Here\n",
        "            # Сгенерировать рандомные индексы\n",
        "            indices = np.random.choice(data_length, size=data_length, replace=True)\n",
        "            self.indices_list.append(indices)\n",
        "\n",
        "    def fit(self, model_constructor, data, target):\n",
        "        '''\n",
        "        Fit model on every bag.\n",
        "        Model constructor with no parameters (and with no ()) is passed to this function.\n",
        "\n",
        "        example:\n",
        "\n",
        "        bagging_regressor = SimplifiedBaggingRegressor(num_bags=10, oob=True)\n",
        "        bagging_regressor.fit(LinearRegression, X, y)\n",
        "        '''\n",
        "        self.data = None\n",
        "        self.target = None\n",
        "        self._generate_splits(data)\n",
        "        assert len(set(list(map(len, self.indices_list)))) == 1, 'All bags should be of the same length!'\n",
        "        assert list(map(len, self.indices_list))[0] == len(data), 'All bags should contain `len(data)` number of elements!'\n",
        "        self.models_list = []\n",
        "        for bag in range(self.num_bags):\n",
        "            model = model_constructor()\n",
        "            # выбор сгенерированных индексов, также определение цели на основе сгенерированных индексов\n",
        "            data_bag, target_bag = data[self.indices_list[bag]], target[self.indices_list[bag]]\n",
        "            self.models_list.append(model.fit(data_bag, target_bag)) # store fitted models here\n",
        "        if self.oob:\n",
        "            self.data = data\n",
        "            self.target = target\n",
        "\n",
        "    def predict(self, data):\n",
        "        '''\n",
        "        Get average prediction for every object from passed dataset\n",
        "        '''\n",
        "        # Your code here\n",
        "        # получение прогнозов и усреднение их\n",
        "        predictions = np.zeros((len(data), len(self.models_list)))\n",
        "        for i, model in enumerate(self.models_list):\n",
        "            predictions[:, i] = model.predict(data)\n",
        "        return np.mean(predictions, axis=1)\n",
        "\n",
        "    def _get_oob_predictions_from_every_model(self):\n",
        "        '''\n",
        "        Generates list of lists, where list i contains predictions for self.data[i] object\n",
        "        from all models, which have not seen this object during training phase\n",
        "        '''\n",
        "        list_of_predictions_lists = [[] for _ in range(len(self.data))]\n",
        "        # Your Code Here\n",
        "        # Для каждой модели и каждой точки проверяем была ли точка OOB\n",
        "        for model_idx, model in enumerate(self.models_list):\n",
        "            # Получение индексов, которые не использованы в данном bag (OOB samples)\n",
        "            oob_m = ~np.isin(np.arange(len(self.data)), self.indices_list[model_idx])\n",
        "            oob_i = np.where(oob_m)[0]\n",
        "\n",
        "            if len(oob_i) > 0:\n",
        "                # получение прогноза для OOB samples\n",
        "                oob_predict = model.predict(self.data[oob_i])\n",
        "\n",
        "                # сохранение прогноза\n",
        "                for idx, pred in zip(oob_i, oob_predict):\n",
        "                    list_of_predictions_lists[idx].append(pred)\n",
        "\n",
        "        self.list_of_predictions_lists = np.array(list_of_predictions_lists, dtype=object)\n",
        "\n",
        "    def _get_averaged_oob_predictions(self):\n",
        "        '''\n",
        "        Compute average prediction for every object from training set.\n",
        "        If object has been used in all bags on training phase, return None instead of prediction\n",
        "        '''\n",
        "        self._get_oob_predictions_from_every_model()\n",
        "        self.oob_predictions = np.array([\n",
        "            np.mean(pred_list) if len(pred_list) > 0 else None\n",
        "            for pred_list in self.list_of_predictions_lists\n",
        "        ])\n",
        "\n",
        "\n",
        "    def OOB_score(self):\n",
        "        '''\n",
        "        Compute mean square error for all objects, which have at least one prediction\n",
        "        '''\n",
        "        # расчет MSE\n",
        "        self._get_averaged_oob_predictions()\n",
        "        mask = self.oob_predictions != None\n",
        "        if not np.any(mask):\n",
        "            return None\n",
        "        return np.mean((self.oob_predictions[mask] - self.target[mask]) ** 2)"
      ]
    },
    {
      "cell_type": "markdown",
      "id": "5cfa174f",
      "metadata": {
        "id": "5cfa174f"
      },
      "source": [
        "### Local tests:"
      ]
    },
    {
      "cell_type": "code",
      "execution_count": 3,
      "id": "eaa2e710",
      "metadata": {
        "id": "eaa2e710"
      },
      "outputs": [],
      "source": [
        "from sklearn.linear_model import LinearRegression\n",
        "from tqdm.auto import tqdm"
      ]
    },
    {
      "cell_type": "markdown",
      "id": "b54221c2",
      "metadata": {
        "id": "b54221c2"
      },
      "source": [
        "#### Simple tests:"
      ]
    },
    {
      "cell_type": "code",
      "execution_count": 4,
      "id": "84c94a8b",
      "metadata": {
        "colab": {
          "base_uri": "https://localhost:8080/",
          "height": 66,
          "referenced_widgets": [
            "a46f276c5d86468f9c0287c7d61b240e",
            "d6cf9b94aef742b7ab6038d49433fe62",
            "d2a685987ea24393b268bd1cece8434b",
            "71e7c4a67d9c4b60b71d6fa74f7fc900",
            "772ace42b28a451cb84db24cb73db7b0",
            "63375a61f63a46b5971e91b190b942cf",
            "38f487c4f50b4a53b2ea5e078b4b534d",
            "0085867c22124882800e27e448407d5a",
            "5ee6c89be5e84295ba7158510abac557",
            "6bfa324a2df3408d80939abb4a7626e0",
            "2d1c84d7bf6046b2a28eb027b31333b0"
          ]
        },
        "id": "84c94a8b",
        "outputId": "27adaf03-98a9-42ed-be59-5d49e49de097"
      },
      "outputs": [
        {
          "output_type": "display_data",
          "data": {
            "text/plain": [
              "  0%|          | 0/100 [00:00<?, ?it/s]"
            ],
            "application/vnd.jupyter.widget-view+json": {
              "version_major": 2,
              "version_minor": 0,
              "model_id": "a46f276c5d86468f9c0287c7d61b240e"
            }
          },
          "metadata": {}
        },
        {
          "output_type": "stream",
          "name": "stdout",
          "text": [
            "Simple tests done!\n"
          ]
        }
      ],
      "source": [
        "for _ in tqdm(range(100)):\n",
        "    X = np.random.randn(2000, 10)\n",
        "    y = np.mean(X, axis=1)\n",
        "    bagging_regressor = SimplifiedBaggingRegressor(num_bags=10, oob=True)\n",
        "    bagging_regressor.fit(LinearRegression, X, y)\n",
        "    predictions = bagging_regressor.predict(X)\n",
        "    assert np.mean((predictions - y)**2) < 1e-6, 'Linear dependency should be fitted with almost zero error!'\n",
        "    assert bagging_regressor.oob, 'OOB feature must be turned on'\n",
        "    oob_score = bagging_regressor.OOB_score()\n",
        "    assert oob_score < 1e-6, 'OOB error for linear dependency should be also close to zero!'\n",
        "    assert abs(\n",
        "        np.mean(\n",
        "            list(map(len, bagging_regressor.list_of_predictions_lists))\n",
        "        ) / bagging_regressor.num_bags - 1/np.exp(1)) < 0.1, 'Probability of missing a bag should be close to theoretical value!'\n",
        "\n",
        "print('Simple tests done!')"
      ]
    },
    {
      "cell_type": "markdown",
      "id": "4be4d037",
      "metadata": {
        "id": "4be4d037"
      },
      "source": [
        "#### Medium tests"
      ]
    },
    {
      "cell_type": "code",
      "execution_count": 5,
      "id": "0cfd3a21",
      "metadata": {
        "colab": {
          "base_uri": "https://localhost:8080/",
          "height": 66,
          "referenced_widgets": [
            "4ad51bc45b7745718ada894dec5af4a7",
            "acc8942371fa4b799584c9677a64e958",
            "b8b7e50416c943678e429c5b5bfb8c9f",
            "5cb57ce789fc4d2ca620c336fc5fb024",
            "30fe2ecb24024708b4e2dc2445e8b795",
            "00513c2090c6489d98cef1906e6c0c8d",
            "8c5cd64c59404416ae4dd2f27c58d4e4",
            "0d5ff526b0734e3bbcc0f68908735624",
            "729d8dcdf0e5414c987fa7e5df48152c",
            "687431d474a24bd2bddc2d18e5098faf",
            "79ffb0595557450fa91530734990a572"
          ]
        },
        "id": "0cfd3a21",
        "outputId": "5b5e97d1-c509-4f13-cec4-6f44a352596f"
      },
      "outputs": [
        {
          "output_type": "display_data",
          "data": {
            "text/plain": [
              "  0%|          | 0/10 [00:00<?, ?it/s]"
            ],
            "application/vnd.jupyter.widget-view+json": {
              "version_major": 2,
              "version_minor": 0,
              "model_id": "4ad51bc45b7745718ada894dec5af4a7"
            }
          },
          "metadata": {}
        },
        {
          "output_type": "stream",
          "name": "stdout",
          "text": [
            "Medium tests done!\n"
          ]
        }
      ],
      "source": [
        "for _ in tqdm(range(10)):\n",
        "    X = np.random.randn(200, 150)\n",
        "    y = np.random.randn(len(X))\n",
        "    bagging_regressor = SimplifiedBaggingRegressor(num_bags=20, oob=True)\n",
        "    bagging_regressor.fit(LinearRegression, X, y)\n",
        "    predictions = bagging_regressor.predict(X)\n",
        "    average_train_error = np.mean((predictions - y)**2)\n",
        "    assert bagging_regressor.oob, 'OOB feature must be turned on'\n",
        "    oob_score = bagging_regressor.OOB_score()\n",
        "    assert oob_score > average_train_error, 'OOB error must be higher than train error due to overfitting!'\n",
        "    assert abs(\n",
        "        np.mean(\n",
        "            list(map(len, bagging_regressor.list_of_predictions_lists))\n",
        "        ) / bagging_regressor.num_bags - 1/np.exp(1)) < 0.1, 'Probability of missing a bag should be close to theoretical value!'\n",
        "\n",
        "print('Medium tests done!')"
      ]
    },
    {
      "cell_type": "markdown",
      "id": "725818ff",
      "metadata": {
        "id": "725818ff"
      },
      "source": [
        "#### Complex tests:"
      ]
    },
    {
      "cell_type": "code",
      "execution_count": 6,
      "id": "8f929d6b",
      "metadata": {
        "colab": {
          "base_uri": "https://localhost:8080/",
          "height": 66,
          "referenced_widgets": [
            "62b2a77d306c4898896a446572ec9f85",
            "d643eb61bb0f40e6a703a3cb5ee4b1b9",
            "b46ba3258d124dc894368b862276489f",
            "550fd28d17a64402b4ca0058579b8be6",
            "d4d1b4d887624c7eaa6f13fb501d52cb",
            "cfa63c50270943e791e1a9e2d0826441",
            "b504dda2b33b4678b376f02f359f0914",
            "3ff57fb4998f45f2b6d581b155bb0b0b",
            "c75a7809eb334de49ad0a6b36532d75f",
            "036bbbf38c434e099f5291055c1c5fb4",
            "cc22aaa2b0ce428a8f51f4045482e675"
          ]
        },
        "id": "8f929d6b",
        "outputId": "180c0514-a539-4f4b-b104-e1a7074c57eb"
      },
      "outputs": [
        {
          "output_type": "display_data",
          "data": {
            "text/plain": [
              "  0%|          | 0/10 [00:00<?, ?it/s]"
            ],
            "application/vnd.jupyter.widget-view+json": {
              "version_major": 2,
              "version_minor": 0,
              "model_id": "62b2a77d306c4898896a446572ec9f85"
            }
          },
          "metadata": {}
        },
        {
          "output_type": "stream",
          "name": "stdout",
          "text": [
            "Complex tests done!\n"
          ]
        }
      ],
      "source": [
        "for _ in tqdm(range(10)):\n",
        "    X = np.random.randn(2000, 15)\n",
        "    y = np.random.randn(len(X))\n",
        "    bagging_regressor = SimplifiedBaggingRegressor(num_bags=100, oob=True)\n",
        "    bagging_regressor.fit(LinearRegression, X, y)\n",
        "    predictions = bagging_regressor.predict(X)\n",
        "    oob_score = bagging_regressor.OOB_score()\n",
        "    assert abs(\n",
        "        np.mean(\n",
        "            list(map(len, bagging_regressor.list_of_predictions_lists))\n",
        "        ) / bagging_regressor.num_bags - 1/np.exp(1)) < 1e-2, 'Probability of missing a bag should be close to theoretical value!'\n",
        "\n",
        "print('Complex tests done!')"
      ]
    },
    {
      "cell_type": "code",
      "execution_count": 7,
      "id": "af170ef8",
      "metadata": {
        "colab": {
          "base_uri": "https://localhost:8080/"
        },
        "id": "af170ef8",
        "outputId": "22f08076-6ce1-4878-b0a8-b3da14b4ea5b"
      },
      "outputs": [
        {
          "output_type": "execute_result",
          "data": {
            "text/plain": [
              "0.0012405588285576696"
            ]
          },
          "metadata": {},
          "execution_count": 7
        }
      ],
      "source": [
        "np.mean(\n",
        "            list(map(len, bagging_regressor.list_of_predictions_lists))\n",
        "        ) / bagging_regressor.num_bags - 1/np.exp(1)"
      ]
    },
    {
      "cell_type": "markdown",
      "id": "9535cb6d",
      "metadata": {
        "id": "9535cb6d"
      },
      "source": [
        "Great job! Please, save `SimplifiedBaggingRegressor` to  `bagging.py` and submit your solution to the grading system!"
      ]
    }
  ],
  "metadata": {
    "kernelspec": {
      "display_name": "Py3 Research",
      "language": "python",
      "name": "py3_research"
    },
    "language_info": {
      "codemirror_mode": {
        "name": "ipython",
        "version": 3
      },
      "file_extension": ".py",
      "mimetype": "text/x-python",
      "name": "python",
      "nbconvert_exporter": "python",
      "pygments_lexer": "ipython3",
      "version": "3.9.16"
    },
    "colab": {
      "provenance": []
    },
    "widgets": {
      "application/vnd.jupyter.widget-state+json": {
        "a46f276c5d86468f9c0287c7d61b240e": {
          "model_module": "@jupyter-widgets/controls",
          "model_name": "HBoxModel",
          "model_module_version": "1.5.0",
          "state": {
            "_dom_classes": [],
            "_model_module": "@jupyter-widgets/controls",
            "_model_module_version": "1.5.0",
            "_model_name": "HBoxModel",
            "_view_count": null,
            "_view_module": "@jupyter-widgets/controls",
            "_view_module_version": "1.5.0",
            "_view_name": "HBoxView",
            "box_style": "",
            "children": [
              "IPY_MODEL_d6cf9b94aef742b7ab6038d49433fe62",
              "IPY_MODEL_d2a685987ea24393b268bd1cece8434b",
              "IPY_MODEL_71e7c4a67d9c4b60b71d6fa74f7fc900"
            ],
            "layout": "IPY_MODEL_772ace42b28a451cb84db24cb73db7b0"
          }
        },
        "d6cf9b94aef742b7ab6038d49433fe62": {
          "model_module": "@jupyter-widgets/controls",
          "model_name": "HTMLModel",
          "model_module_version": "1.5.0",
          "state": {
            "_dom_classes": [],
            "_model_module": "@jupyter-widgets/controls",
            "_model_module_version": "1.5.0",
            "_model_name": "HTMLModel",
            "_view_count": null,
            "_view_module": "@jupyter-widgets/controls",
            "_view_module_version": "1.5.0",
            "_view_name": "HTMLView",
            "description": "",
            "description_tooltip": null,
            "layout": "IPY_MODEL_63375a61f63a46b5971e91b190b942cf",
            "placeholder": "​",
            "style": "IPY_MODEL_38f487c4f50b4a53b2ea5e078b4b534d",
            "value": "100%"
          }
        },
        "d2a685987ea24393b268bd1cece8434b": {
          "model_module": "@jupyter-widgets/controls",
          "model_name": "FloatProgressModel",
          "model_module_version": "1.5.0",
          "state": {
            "_dom_classes": [],
            "_model_module": "@jupyter-widgets/controls",
            "_model_module_version": "1.5.0",
            "_model_name": "FloatProgressModel",
            "_view_count": null,
            "_view_module": "@jupyter-widgets/controls",
            "_view_module_version": "1.5.0",
            "_view_name": "ProgressView",
            "bar_style": "success",
            "description": "",
            "description_tooltip": null,
            "layout": "IPY_MODEL_0085867c22124882800e27e448407d5a",
            "max": 100,
            "min": 0,
            "orientation": "horizontal",
            "style": "IPY_MODEL_5ee6c89be5e84295ba7158510abac557",
            "value": 100
          }
        },
        "71e7c4a67d9c4b60b71d6fa74f7fc900": {
          "model_module": "@jupyter-widgets/controls",
          "model_name": "HTMLModel",
          "model_module_version": "1.5.0",
          "state": {
            "_dom_classes": [],
            "_model_module": "@jupyter-widgets/controls",
            "_model_module_version": "1.5.0",
            "_model_name": "HTMLModel",
            "_view_count": null,
            "_view_module": "@jupyter-widgets/controls",
            "_view_module_version": "1.5.0",
            "_view_name": "HTMLView",
            "description": "",
            "description_tooltip": null,
            "layout": "IPY_MODEL_6bfa324a2df3408d80939abb4a7626e0",
            "placeholder": "​",
            "style": "IPY_MODEL_2d1c84d7bf6046b2a28eb027b31333b0",
            "value": " 100/100 [00:16&lt;00:00,  8.15it/s]"
          }
        },
        "772ace42b28a451cb84db24cb73db7b0": {
          "model_module": "@jupyter-widgets/base",
          "model_name": "LayoutModel",
          "model_module_version": "1.2.0",
          "state": {
            "_model_module": "@jupyter-widgets/base",
            "_model_module_version": "1.2.0",
            "_model_name": "LayoutModel",
            "_view_count": null,
            "_view_module": "@jupyter-widgets/base",
            "_view_module_version": "1.2.0",
            "_view_name": "LayoutView",
            "align_content": null,
            "align_items": null,
            "align_self": null,
            "border": null,
            "bottom": null,
            "display": null,
            "flex": null,
            "flex_flow": null,
            "grid_area": null,
            "grid_auto_columns": null,
            "grid_auto_flow": null,
            "grid_auto_rows": null,
            "grid_column": null,
            "grid_gap": null,
            "grid_row": null,
            "grid_template_areas": null,
            "grid_template_columns": null,
            "grid_template_rows": null,
            "height": null,
            "justify_content": null,
            "justify_items": null,
            "left": null,
            "margin": null,
            "max_height": null,
            "max_width": null,
            "min_height": null,
            "min_width": null,
            "object_fit": null,
            "object_position": null,
            "order": null,
            "overflow": null,
            "overflow_x": null,
            "overflow_y": null,
            "padding": null,
            "right": null,
            "top": null,
            "visibility": null,
            "width": null
          }
        },
        "63375a61f63a46b5971e91b190b942cf": {
          "model_module": "@jupyter-widgets/base",
          "model_name": "LayoutModel",
          "model_module_version": "1.2.0",
          "state": {
            "_model_module": "@jupyter-widgets/base",
            "_model_module_version": "1.2.0",
            "_model_name": "LayoutModel",
            "_view_count": null,
            "_view_module": "@jupyter-widgets/base",
            "_view_module_version": "1.2.0",
            "_view_name": "LayoutView",
            "align_content": null,
            "align_items": null,
            "align_self": null,
            "border": null,
            "bottom": null,
            "display": null,
            "flex": null,
            "flex_flow": null,
            "grid_area": null,
            "grid_auto_columns": null,
            "grid_auto_flow": null,
            "grid_auto_rows": null,
            "grid_column": null,
            "grid_gap": null,
            "grid_row": null,
            "grid_template_areas": null,
            "grid_template_columns": null,
            "grid_template_rows": null,
            "height": null,
            "justify_content": null,
            "justify_items": null,
            "left": null,
            "margin": null,
            "max_height": null,
            "max_width": null,
            "min_height": null,
            "min_width": null,
            "object_fit": null,
            "object_position": null,
            "order": null,
            "overflow": null,
            "overflow_x": null,
            "overflow_y": null,
            "padding": null,
            "right": null,
            "top": null,
            "visibility": null,
            "width": null
          }
        },
        "38f487c4f50b4a53b2ea5e078b4b534d": {
          "model_module": "@jupyter-widgets/controls",
          "model_name": "DescriptionStyleModel",
          "model_module_version": "1.5.0",
          "state": {
            "_model_module": "@jupyter-widgets/controls",
            "_model_module_version": "1.5.0",
            "_model_name": "DescriptionStyleModel",
            "_view_count": null,
            "_view_module": "@jupyter-widgets/base",
            "_view_module_version": "1.2.0",
            "_view_name": "StyleView",
            "description_width": ""
          }
        },
        "0085867c22124882800e27e448407d5a": {
          "model_module": "@jupyter-widgets/base",
          "model_name": "LayoutModel",
          "model_module_version": "1.2.0",
          "state": {
            "_model_module": "@jupyter-widgets/base",
            "_model_module_version": "1.2.0",
            "_model_name": "LayoutModel",
            "_view_count": null,
            "_view_module": "@jupyter-widgets/base",
            "_view_module_version": "1.2.0",
            "_view_name": "LayoutView",
            "align_content": null,
            "align_items": null,
            "align_self": null,
            "border": null,
            "bottom": null,
            "display": null,
            "flex": null,
            "flex_flow": null,
            "grid_area": null,
            "grid_auto_columns": null,
            "grid_auto_flow": null,
            "grid_auto_rows": null,
            "grid_column": null,
            "grid_gap": null,
            "grid_row": null,
            "grid_template_areas": null,
            "grid_template_columns": null,
            "grid_template_rows": null,
            "height": null,
            "justify_content": null,
            "justify_items": null,
            "left": null,
            "margin": null,
            "max_height": null,
            "max_width": null,
            "min_height": null,
            "min_width": null,
            "object_fit": null,
            "object_position": null,
            "order": null,
            "overflow": null,
            "overflow_x": null,
            "overflow_y": null,
            "padding": null,
            "right": null,
            "top": null,
            "visibility": null,
            "width": null
          }
        },
        "5ee6c89be5e84295ba7158510abac557": {
          "model_module": "@jupyter-widgets/controls",
          "model_name": "ProgressStyleModel",
          "model_module_version": "1.5.0",
          "state": {
            "_model_module": "@jupyter-widgets/controls",
            "_model_module_version": "1.5.0",
            "_model_name": "ProgressStyleModel",
            "_view_count": null,
            "_view_module": "@jupyter-widgets/base",
            "_view_module_version": "1.2.0",
            "_view_name": "StyleView",
            "bar_color": null,
            "description_width": ""
          }
        },
        "6bfa324a2df3408d80939abb4a7626e0": {
          "model_module": "@jupyter-widgets/base",
          "model_name": "LayoutModel",
          "model_module_version": "1.2.0",
          "state": {
            "_model_module": "@jupyter-widgets/base",
            "_model_module_version": "1.2.0",
            "_model_name": "LayoutModel",
            "_view_count": null,
            "_view_module": "@jupyter-widgets/base",
            "_view_module_version": "1.2.0",
            "_view_name": "LayoutView",
            "align_content": null,
            "align_items": null,
            "align_self": null,
            "border": null,
            "bottom": null,
            "display": null,
            "flex": null,
            "flex_flow": null,
            "grid_area": null,
            "grid_auto_columns": null,
            "grid_auto_flow": null,
            "grid_auto_rows": null,
            "grid_column": null,
            "grid_gap": null,
            "grid_row": null,
            "grid_template_areas": null,
            "grid_template_columns": null,
            "grid_template_rows": null,
            "height": null,
            "justify_content": null,
            "justify_items": null,
            "left": null,
            "margin": null,
            "max_height": null,
            "max_width": null,
            "min_height": null,
            "min_width": null,
            "object_fit": null,
            "object_position": null,
            "order": null,
            "overflow": null,
            "overflow_x": null,
            "overflow_y": null,
            "padding": null,
            "right": null,
            "top": null,
            "visibility": null,
            "width": null
          }
        },
        "2d1c84d7bf6046b2a28eb027b31333b0": {
          "model_module": "@jupyter-widgets/controls",
          "model_name": "DescriptionStyleModel",
          "model_module_version": "1.5.0",
          "state": {
            "_model_module": "@jupyter-widgets/controls",
            "_model_module_version": "1.5.0",
            "_model_name": "DescriptionStyleModel",
            "_view_count": null,
            "_view_module": "@jupyter-widgets/base",
            "_view_module_version": "1.2.0",
            "_view_name": "StyleView",
            "description_width": ""
          }
        },
        "4ad51bc45b7745718ada894dec5af4a7": {
          "model_module": "@jupyter-widgets/controls",
          "model_name": "HBoxModel",
          "model_module_version": "1.5.0",
          "state": {
            "_dom_classes": [],
            "_model_module": "@jupyter-widgets/controls",
            "_model_module_version": "1.5.0",
            "_model_name": "HBoxModel",
            "_view_count": null,
            "_view_module": "@jupyter-widgets/controls",
            "_view_module_version": "1.5.0",
            "_view_name": "HBoxView",
            "box_style": "",
            "children": [
              "IPY_MODEL_acc8942371fa4b799584c9677a64e958",
              "IPY_MODEL_b8b7e50416c943678e429c5b5bfb8c9f",
              "IPY_MODEL_5cb57ce789fc4d2ca620c336fc5fb024"
            ],
            "layout": "IPY_MODEL_30fe2ecb24024708b4e2dc2445e8b795"
          }
        },
        "acc8942371fa4b799584c9677a64e958": {
          "model_module": "@jupyter-widgets/controls",
          "model_name": "HTMLModel",
          "model_module_version": "1.5.0",
          "state": {
            "_dom_classes": [],
            "_model_module": "@jupyter-widgets/controls",
            "_model_module_version": "1.5.0",
            "_model_name": "HTMLModel",
            "_view_count": null,
            "_view_module": "@jupyter-widgets/controls",
            "_view_module_version": "1.5.0",
            "_view_name": "HTMLView",
            "description": "",
            "description_tooltip": null,
            "layout": "IPY_MODEL_00513c2090c6489d98cef1906e6c0c8d",
            "placeholder": "​",
            "style": "IPY_MODEL_8c5cd64c59404416ae4dd2f27c58d4e4",
            "value": "100%"
          }
        },
        "b8b7e50416c943678e429c5b5bfb8c9f": {
          "model_module": "@jupyter-widgets/controls",
          "model_name": "FloatProgressModel",
          "model_module_version": "1.5.0",
          "state": {
            "_dom_classes": [],
            "_model_module": "@jupyter-widgets/controls",
            "_model_module_version": "1.5.0",
            "_model_name": "FloatProgressModel",
            "_view_count": null,
            "_view_module": "@jupyter-widgets/controls",
            "_view_module_version": "1.5.0",
            "_view_name": "ProgressView",
            "bar_style": "success",
            "description": "",
            "description_tooltip": null,
            "layout": "IPY_MODEL_0d5ff526b0734e3bbcc0f68908735624",
            "max": 10,
            "min": 0,
            "orientation": "horizontal",
            "style": "IPY_MODEL_729d8dcdf0e5414c987fa7e5df48152c",
            "value": 10
          }
        },
        "5cb57ce789fc4d2ca620c336fc5fb024": {
          "model_module": "@jupyter-widgets/controls",
          "model_name": "HTMLModel",
          "model_module_version": "1.5.0",
          "state": {
            "_dom_classes": [],
            "_model_module": "@jupyter-widgets/controls",
            "_model_module_version": "1.5.0",
            "_model_name": "HTMLModel",
            "_view_count": null,
            "_view_module": "@jupyter-widgets/controls",
            "_view_module_version": "1.5.0",
            "_view_name": "HTMLView",
            "description": "",
            "description_tooltip": null,
            "layout": "IPY_MODEL_687431d474a24bd2bddc2d18e5098faf",
            "placeholder": "​",
            "style": "IPY_MODEL_79ffb0595557450fa91530734990a572",
            "value": " 10/10 [00:02&lt;00:00,  3.96it/s]"
          }
        },
        "30fe2ecb24024708b4e2dc2445e8b795": {
          "model_module": "@jupyter-widgets/base",
          "model_name": "LayoutModel",
          "model_module_version": "1.2.0",
          "state": {
            "_model_module": "@jupyter-widgets/base",
            "_model_module_version": "1.2.0",
            "_model_name": "LayoutModel",
            "_view_count": null,
            "_view_module": "@jupyter-widgets/base",
            "_view_module_version": "1.2.0",
            "_view_name": "LayoutView",
            "align_content": null,
            "align_items": null,
            "align_self": null,
            "border": null,
            "bottom": null,
            "display": null,
            "flex": null,
            "flex_flow": null,
            "grid_area": null,
            "grid_auto_columns": null,
            "grid_auto_flow": null,
            "grid_auto_rows": null,
            "grid_column": null,
            "grid_gap": null,
            "grid_row": null,
            "grid_template_areas": null,
            "grid_template_columns": null,
            "grid_template_rows": null,
            "height": null,
            "justify_content": null,
            "justify_items": null,
            "left": null,
            "margin": null,
            "max_height": null,
            "max_width": null,
            "min_height": null,
            "min_width": null,
            "object_fit": null,
            "object_position": null,
            "order": null,
            "overflow": null,
            "overflow_x": null,
            "overflow_y": null,
            "padding": null,
            "right": null,
            "top": null,
            "visibility": null,
            "width": null
          }
        },
        "00513c2090c6489d98cef1906e6c0c8d": {
          "model_module": "@jupyter-widgets/base",
          "model_name": "LayoutModel",
          "model_module_version": "1.2.0",
          "state": {
            "_model_module": "@jupyter-widgets/base",
            "_model_module_version": "1.2.0",
            "_model_name": "LayoutModel",
            "_view_count": null,
            "_view_module": "@jupyter-widgets/base",
            "_view_module_version": "1.2.0",
            "_view_name": "LayoutView",
            "align_content": null,
            "align_items": null,
            "align_self": null,
            "border": null,
            "bottom": null,
            "display": null,
            "flex": null,
            "flex_flow": null,
            "grid_area": null,
            "grid_auto_columns": null,
            "grid_auto_flow": null,
            "grid_auto_rows": null,
            "grid_column": null,
            "grid_gap": null,
            "grid_row": null,
            "grid_template_areas": null,
            "grid_template_columns": null,
            "grid_template_rows": null,
            "height": null,
            "justify_content": null,
            "justify_items": null,
            "left": null,
            "margin": null,
            "max_height": null,
            "max_width": null,
            "min_height": null,
            "min_width": null,
            "object_fit": null,
            "object_position": null,
            "order": null,
            "overflow": null,
            "overflow_x": null,
            "overflow_y": null,
            "padding": null,
            "right": null,
            "top": null,
            "visibility": null,
            "width": null
          }
        },
        "8c5cd64c59404416ae4dd2f27c58d4e4": {
          "model_module": "@jupyter-widgets/controls",
          "model_name": "DescriptionStyleModel",
          "model_module_version": "1.5.0",
          "state": {
            "_model_module": "@jupyter-widgets/controls",
            "_model_module_version": "1.5.0",
            "_model_name": "DescriptionStyleModel",
            "_view_count": null,
            "_view_module": "@jupyter-widgets/base",
            "_view_module_version": "1.2.0",
            "_view_name": "StyleView",
            "description_width": ""
          }
        },
        "0d5ff526b0734e3bbcc0f68908735624": {
          "model_module": "@jupyter-widgets/base",
          "model_name": "LayoutModel",
          "model_module_version": "1.2.0",
          "state": {
            "_model_module": "@jupyter-widgets/base",
            "_model_module_version": "1.2.0",
            "_model_name": "LayoutModel",
            "_view_count": null,
            "_view_module": "@jupyter-widgets/base",
            "_view_module_version": "1.2.0",
            "_view_name": "LayoutView",
            "align_content": null,
            "align_items": null,
            "align_self": null,
            "border": null,
            "bottom": null,
            "display": null,
            "flex": null,
            "flex_flow": null,
            "grid_area": null,
            "grid_auto_columns": null,
            "grid_auto_flow": null,
            "grid_auto_rows": null,
            "grid_column": null,
            "grid_gap": null,
            "grid_row": null,
            "grid_template_areas": null,
            "grid_template_columns": null,
            "grid_template_rows": null,
            "height": null,
            "justify_content": null,
            "justify_items": null,
            "left": null,
            "margin": null,
            "max_height": null,
            "max_width": null,
            "min_height": null,
            "min_width": null,
            "object_fit": null,
            "object_position": null,
            "order": null,
            "overflow": null,
            "overflow_x": null,
            "overflow_y": null,
            "padding": null,
            "right": null,
            "top": null,
            "visibility": null,
            "width": null
          }
        },
        "729d8dcdf0e5414c987fa7e5df48152c": {
          "model_module": "@jupyter-widgets/controls",
          "model_name": "ProgressStyleModel",
          "model_module_version": "1.5.0",
          "state": {
            "_model_module": "@jupyter-widgets/controls",
            "_model_module_version": "1.5.0",
            "_model_name": "ProgressStyleModel",
            "_view_count": null,
            "_view_module": "@jupyter-widgets/base",
            "_view_module_version": "1.2.0",
            "_view_name": "StyleView",
            "bar_color": null,
            "description_width": ""
          }
        },
        "687431d474a24bd2bddc2d18e5098faf": {
          "model_module": "@jupyter-widgets/base",
          "model_name": "LayoutModel",
          "model_module_version": "1.2.0",
          "state": {
            "_model_module": "@jupyter-widgets/base",
            "_model_module_version": "1.2.0",
            "_model_name": "LayoutModel",
            "_view_count": null,
            "_view_module": "@jupyter-widgets/base",
            "_view_module_version": "1.2.0",
            "_view_name": "LayoutView",
            "align_content": null,
            "align_items": null,
            "align_self": null,
            "border": null,
            "bottom": null,
            "display": null,
            "flex": null,
            "flex_flow": null,
            "grid_area": null,
            "grid_auto_columns": null,
            "grid_auto_flow": null,
            "grid_auto_rows": null,
            "grid_column": null,
            "grid_gap": null,
            "grid_row": null,
            "grid_template_areas": null,
            "grid_template_columns": null,
            "grid_template_rows": null,
            "height": null,
            "justify_content": null,
            "justify_items": null,
            "left": null,
            "margin": null,
            "max_height": null,
            "max_width": null,
            "min_height": null,
            "min_width": null,
            "object_fit": null,
            "object_position": null,
            "order": null,
            "overflow": null,
            "overflow_x": null,
            "overflow_y": null,
            "padding": null,
            "right": null,
            "top": null,
            "visibility": null,
            "width": null
          }
        },
        "79ffb0595557450fa91530734990a572": {
          "model_module": "@jupyter-widgets/controls",
          "model_name": "DescriptionStyleModel",
          "model_module_version": "1.5.0",
          "state": {
            "_model_module": "@jupyter-widgets/controls",
            "_model_module_version": "1.5.0",
            "_model_name": "DescriptionStyleModel",
            "_view_count": null,
            "_view_module": "@jupyter-widgets/base",
            "_view_module_version": "1.2.0",
            "_view_name": "StyleView",
            "description_width": ""
          }
        },
        "62b2a77d306c4898896a446572ec9f85": {
          "model_module": "@jupyter-widgets/controls",
          "model_name": "HBoxModel",
          "model_module_version": "1.5.0",
          "state": {
            "_dom_classes": [],
            "_model_module": "@jupyter-widgets/controls",
            "_model_module_version": "1.5.0",
            "_model_name": "HBoxModel",
            "_view_count": null,
            "_view_module": "@jupyter-widgets/controls",
            "_view_module_version": "1.5.0",
            "_view_name": "HBoxView",
            "box_style": "",
            "children": [
              "IPY_MODEL_d643eb61bb0f40e6a703a3cb5ee4b1b9",
              "IPY_MODEL_b46ba3258d124dc894368b862276489f",
              "IPY_MODEL_550fd28d17a64402b4ca0058579b8be6"
            ],
            "layout": "IPY_MODEL_d4d1b4d887624c7eaa6f13fb501d52cb"
          }
        },
        "d643eb61bb0f40e6a703a3cb5ee4b1b9": {
          "model_module": "@jupyter-widgets/controls",
          "model_name": "HTMLModel",
          "model_module_version": "1.5.0",
          "state": {
            "_dom_classes": [],
            "_model_module": "@jupyter-widgets/controls",
            "_model_module_version": "1.5.0",
            "_model_name": "HTMLModel",
            "_view_count": null,
            "_view_module": "@jupyter-widgets/controls",
            "_view_module_version": "1.5.0",
            "_view_name": "HTMLView",
            "description": "",
            "description_tooltip": null,
            "layout": "IPY_MODEL_cfa63c50270943e791e1a9e2d0826441",
            "placeholder": "​",
            "style": "IPY_MODEL_b504dda2b33b4678b376f02f359f0914",
            "value": "100%"
          }
        },
        "b46ba3258d124dc894368b862276489f": {
          "model_module": "@jupyter-widgets/controls",
          "model_name": "FloatProgressModel",
          "model_module_version": "1.5.0",
          "state": {
            "_dom_classes": [],
            "_model_module": "@jupyter-widgets/controls",
            "_model_module_version": "1.5.0",
            "_model_name": "FloatProgressModel",
            "_view_count": null,
            "_view_module": "@jupyter-widgets/controls",
            "_view_module_version": "1.5.0",
            "_view_name": "ProgressView",
            "bar_style": "success",
            "description": "",
            "description_tooltip": null,
            "layout": "IPY_MODEL_3ff57fb4998f45f2b6d581b155bb0b0b",
            "max": 10,
            "min": 0,
            "orientation": "horizontal",
            "style": "IPY_MODEL_c75a7809eb334de49ad0a6b36532d75f",
            "value": 10
          }
        },
        "550fd28d17a64402b4ca0058579b8be6": {
          "model_module": "@jupyter-widgets/controls",
          "model_name": "HTMLModel",
          "model_module_version": "1.5.0",
          "state": {
            "_dom_classes": [],
            "_model_module": "@jupyter-widgets/controls",
            "_model_module_version": "1.5.0",
            "_model_name": "HTMLModel",
            "_view_count": null,
            "_view_module": "@jupyter-widgets/controls",
            "_view_module_version": "1.5.0",
            "_view_name": "HTMLView",
            "description": "",
            "description_tooltip": null,
            "layout": "IPY_MODEL_036bbbf38c434e099f5291055c1c5fb4",
            "placeholder": "​",
            "style": "IPY_MODEL_cc22aaa2b0ce428a8f51f4045482e675",
            "value": " 10/10 [00:05&lt;00:00,  1.91it/s]"
          }
        },
        "d4d1b4d887624c7eaa6f13fb501d52cb": {
          "model_module": "@jupyter-widgets/base",
          "model_name": "LayoutModel",
          "model_module_version": "1.2.0",
          "state": {
            "_model_module": "@jupyter-widgets/base",
            "_model_module_version": "1.2.0",
            "_model_name": "LayoutModel",
            "_view_count": null,
            "_view_module": "@jupyter-widgets/base",
            "_view_module_version": "1.2.0",
            "_view_name": "LayoutView",
            "align_content": null,
            "align_items": null,
            "align_self": null,
            "border": null,
            "bottom": null,
            "display": null,
            "flex": null,
            "flex_flow": null,
            "grid_area": null,
            "grid_auto_columns": null,
            "grid_auto_flow": null,
            "grid_auto_rows": null,
            "grid_column": null,
            "grid_gap": null,
            "grid_row": null,
            "grid_template_areas": null,
            "grid_template_columns": null,
            "grid_template_rows": null,
            "height": null,
            "justify_content": null,
            "justify_items": null,
            "left": null,
            "margin": null,
            "max_height": null,
            "max_width": null,
            "min_height": null,
            "min_width": null,
            "object_fit": null,
            "object_position": null,
            "order": null,
            "overflow": null,
            "overflow_x": null,
            "overflow_y": null,
            "padding": null,
            "right": null,
            "top": null,
            "visibility": null,
            "width": null
          }
        },
        "cfa63c50270943e791e1a9e2d0826441": {
          "model_module": "@jupyter-widgets/base",
          "model_name": "LayoutModel",
          "model_module_version": "1.2.0",
          "state": {
            "_model_module": "@jupyter-widgets/base",
            "_model_module_version": "1.2.0",
            "_model_name": "LayoutModel",
            "_view_count": null,
            "_view_module": "@jupyter-widgets/base",
            "_view_module_version": "1.2.0",
            "_view_name": "LayoutView",
            "align_content": null,
            "align_items": null,
            "align_self": null,
            "border": null,
            "bottom": null,
            "display": null,
            "flex": null,
            "flex_flow": null,
            "grid_area": null,
            "grid_auto_columns": null,
            "grid_auto_flow": null,
            "grid_auto_rows": null,
            "grid_column": null,
            "grid_gap": null,
            "grid_row": null,
            "grid_template_areas": null,
            "grid_template_columns": null,
            "grid_template_rows": null,
            "height": null,
            "justify_content": null,
            "justify_items": null,
            "left": null,
            "margin": null,
            "max_height": null,
            "max_width": null,
            "min_height": null,
            "min_width": null,
            "object_fit": null,
            "object_position": null,
            "order": null,
            "overflow": null,
            "overflow_x": null,
            "overflow_y": null,
            "padding": null,
            "right": null,
            "top": null,
            "visibility": null,
            "width": null
          }
        },
        "b504dda2b33b4678b376f02f359f0914": {
          "model_module": "@jupyter-widgets/controls",
          "model_name": "DescriptionStyleModel",
          "model_module_version": "1.5.0",
          "state": {
            "_model_module": "@jupyter-widgets/controls",
            "_model_module_version": "1.5.0",
            "_model_name": "DescriptionStyleModel",
            "_view_count": null,
            "_view_module": "@jupyter-widgets/base",
            "_view_module_version": "1.2.0",
            "_view_name": "StyleView",
            "description_width": ""
          }
        },
        "3ff57fb4998f45f2b6d581b155bb0b0b": {
          "model_module": "@jupyter-widgets/base",
          "model_name": "LayoutModel",
          "model_module_version": "1.2.0",
          "state": {
            "_model_module": "@jupyter-widgets/base",
            "_model_module_version": "1.2.0",
            "_model_name": "LayoutModel",
            "_view_count": null,
            "_view_module": "@jupyter-widgets/base",
            "_view_module_version": "1.2.0",
            "_view_name": "LayoutView",
            "align_content": null,
            "align_items": null,
            "align_self": null,
            "border": null,
            "bottom": null,
            "display": null,
            "flex": null,
            "flex_flow": null,
            "grid_area": null,
            "grid_auto_columns": null,
            "grid_auto_flow": null,
            "grid_auto_rows": null,
            "grid_column": null,
            "grid_gap": null,
            "grid_row": null,
            "grid_template_areas": null,
            "grid_template_columns": null,
            "grid_template_rows": null,
            "height": null,
            "justify_content": null,
            "justify_items": null,
            "left": null,
            "margin": null,
            "max_height": null,
            "max_width": null,
            "min_height": null,
            "min_width": null,
            "object_fit": null,
            "object_position": null,
            "order": null,
            "overflow": null,
            "overflow_x": null,
            "overflow_y": null,
            "padding": null,
            "right": null,
            "top": null,
            "visibility": null,
            "width": null
          }
        },
        "c75a7809eb334de49ad0a6b36532d75f": {
          "model_module": "@jupyter-widgets/controls",
          "model_name": "ProgressStyleModel",
          "model_module_version": "1.5.0",
          "state": {
            "_model_module": "@jupyter-widgets/controls",
            "_model_module_version": "1.5.0",
            "_model_name": "ProgressStyleModel",
            "_view_count": null,
            "_view_module": "@jupyter-widgets/base",
            "_view_module_version": "1.2.0",
            "_view_name": "StyleView",
            "bar_color": null,
            "description_width": ""
          }
        },
        "036bbbf38c434e099f5291055c1c5fb4": {
          "model_module": "@jupyter-widgets/base",
          "model_name": "LayoutModel",
          "model_module_version": "1.2.0",
          "state": {
            "_model_module": "@jupyter-widgets/base",
            "_model_module_version": "1.2.0",
            "_model_name": "LayoutModel",
            "_view_count": null,
            "_view_module": "@jupyter-widgets/base",
            "_view_module_version": "1.2.0",
            "_view_name": "LayoutView",
            "align_content": null,
            "align_items": null,
            "align_self": null,
            "border": null,
            "bottom": null,
            "display": null,
            "flex": null,
            "flex_flow": null,
            "grid_area": null,
            "grid_auto_columns": null,
            "grid_auto_flow": null,
            "grid_auto_rows": null,
            "grid_column": null,
            "grid_gap": null,
            "grid_row": null,
            "grid_template_areas": null,
            "grid_template_columns": null,
            "grid_template_rows": null,
            "height": null,
            "justify_content": null,
            "justify_items": null,
            "left": null,
            "margin": null,
            "max_height": null,
            "max_width": null,
            "min_height": null,
            "min_width": null,
            "object_fit": null,
            "object_position": null,
            "order": null,
            "overflow": null,
            "overflow_x": null,
            "overflow_y": null,
            "padding": null,
            "right": null,
            "top": null,
            "visibility": null,
            "width": null
          }
        },
        "cc22aaa2b0ce428a8f51f4045482e675": {
          "model_module": "@jupyter-widgets/controls",
          "model_name": "DescriptionStyleModel",
          "model_module_version": "1.5.0",
          "state": {
            "_model_module": "@jupyter-widgets/controls",
            "_model_module_version": "1.5.0",
            "_model_name": "DescriptionStyleModel",
            "_view_count": null,
            "_view_module": "@jupyter-widgets/base",
            "_view_module_version": "1.2.0",
            "_view_name": "StyleView",
            "description_width": ""
          }
        }
      }
    }
  },
  "nbformat": 4,
  "nbformat_minor": 5
}