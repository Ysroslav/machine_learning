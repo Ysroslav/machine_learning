{
  "cells": [
    {
      "cell_type": "markdown",
      "metadata": {
        "id": "zhaRaW24ASyT"
      },
      "source": [
        "*Credits: materials from this notebook belong to YSDA [Practical DL](https://github.com/yandexdataschool/Practical_DL) course. Special thanks for making them available online.*"
      ]
    },
    {
      "cell_type": "markdown",
      "metadata": {
        "id": "5ACvlxsyASyV"
      },
      "source": [
        "# Lab assignment №1, part 1\n",
        "\n",
        "This lab assignment consists of several parts. You are supposed to make some transformations, train some models, estimate the quality of the models and explain your results.\n",
        "\n",
        "Several comments:\n",
        "* Don't hesitate to ask questions, it's a good practice.\n",
        "* No private/public sharing, please. The copied assignments will be graded with 0 points.\n",
        "* Blocks of this lab will be graded separately."
      ]
    },
    {
      "cell_type": "markdown",
      "metadata": {
        "id": "6aB-T19LASyW"
      },
      "source": [
        "## 1. Matrix differentiation"
      ]
    },
    {
      "cell_type": "markdown",
      "metadata": {
        "id": "J6PGm_o_ASyW"
      },
      "source": [
        "Since it easy to google every task please please please try to undestand what's going on. The \"just answer\" thing will be not counted, make sure to present derivation of your solution. It is absolutely OK if you found an answer on web then just exercise in $\\LaTeX$ copying it into here."
      ]
    },
    {
      "cell_type": "code",
      "source": [],
      "metadata": {
        "id": "6LXWhBu_Ck-G"
      },
      "execution_count": null,
      "outputs": []
    },
    {
      "cell_type": "markdown",
      "metadata": {
        "id": "O9F3UAAvASyX"
      },
      "source": [
        "Useful links:\n",
        "[1](http://www.machinelearning.ru/wiki/images/2/2a/Matrix-Gauss.pdf)\n",
        "[2](http://www.atmos.washington.edu/~dennis/MatrixCalculus.pdf)"
      ]
    },
    {
      "cell_type": "markdown",
      "metadata": {
        "id": "l8aBN8-1ASyX"
      },
      "source": [
        "## ex. 1"
      ]
    },
    {
      "cell_type": "markdown",
      "metadata": {
        "id": "ijMeHbXIASyX"
      },
      "source": [
        "$$  \n",
        "y = x^Tx,  \\quad x \\in \\mathbb{R}^N\n",
        "$$"
      ]
    },
    {
      "cell_type": "markdown",
      "metadata": {
        "id": "xxSIZpUkASyX"
      },
      "source": [
        "$$\n",
        "\\frac{dy}{dx} =\n",
        "$$"
      ]
    },
    {
      "cell_type": "markdown",
      "source": [
        "**Решение:**\n",
        "Функция y может быть представлена как сумма квадратов компонент вектора x:\n",
        "\n",
        "$$y = x^T x = \\sum_{i=1}^{n} x_i^2\\$$\n",
        "\n",
        "\n",
        "Теперь найдем градиент функции y по вектору x. Для этого нам нужно вычислить частные производные для каждого компонента вектора x ($x_i$)\n",
        "\n",
        "Получаем:\n",
        "   $$\\nabla y = \\begin{pmatrix}\n",
        "   2x_1, \\\\\n",
        "   2x_2, \\\\\n",
        "   \\vdots \\\\\n",
        "   2x_n\n",
        "   \\end{pmatrix} = 2x\n",
        "   $$\n",
        "\n",
        "Итак, производная функции $ y = x^T x $ по вектору $ x $ равна $\\nabla y = 2x$.\n"
      ],
      "metadata": {
        "id": "JQL_02RGEpYj"
      }
    },
    {
      "cell_type": "markdown",
      "metadata": {
        "id": "l2GIogNiASyY"
      },
      "source": [
        "## ex. 2"
      ]
    },
    {
      "cell_type": "markdown",
      "metadata": {
        "id": "yQBymDhJASyY"
      },
      "source": [
        "$$ y = tr(AB) \\quad A,B \\in \\mathbb{R}^{N \\times N} $$"
      ]
    },
    {
      "cell_type": "markdown",
      "metadata": {
        "id": "6Kc_C0mxASyZ"
      },
      "source": [
        "$$\n",
        "\\frac{dy}{dA} =\n",
        "$$"
      ]
    },
    {
      "cell_type": "markdown",
      "source": [
        "Представим функцию y = tr(AB) как:\n",
        "$y = tr\\begin{pmatrix}\n",
        "   a_1^Tb_1, a_1^Tb_2\\dots a_1^Tb_n \\\\\n",
        "   a_2^Tb_1, a_2^Tb_2\\dots a_2^Tb_n \\\\\n",
        "   \\vdots \\\\\n",
        "   a_n^Tb_1, a_n^Tb_2\\dots a_n^Tb_n\n",
        "   \\end{pmatrix}\n",
        "   $\n",
        "    \n",
        "   = $\\sum_{i=1}^{n} a_{1i}b_{i1} + \\sum_{i=1}^{n} a_{2i}b_{i2} + \\dots + \\sum_{i=1}^{n} a_{ni}b_{in}\\$\n",
        "\n",
        "   Находим частные производные по $a_{ij}$\n",
        "\n",
        "   $\\frac{dtrAB}{da_{ij}} = b_{ji}$\n",
        "\n",
        "   Следовательно\n",
        "   $\\frac{dy}{dA} = B^T$\n"
      ],
      "metadata": {
        "id": "bunJpHREPl9N"
      }
    },
    {
      "cell_type": "code",
      "execution_count": null,
      "metadata": {
        "collapsed": true,
        "jupyter": {
          "outputs_hidden": true
        },
        "id": "VWuGDUbAASyZ"
      },
      "outputs": [],
      "source": []
    },
    {
      "cell_type": "markdown",
      "metadata": {
        "id": "gMbaJLDcASyZ"
      },
      "source": [
        "## ex. 3"
      ]
    },
    {
      "cell_type": "markdown",
      "metadata": {
        "id": "6oyFk8AyASyZ"
      },
      "source": [
        "$$  \n",
        "y = x^TAc , \\quad A\\in \\mathbb{R}^{N \\times N}, x\\in \\mathbb{R}^{N}, c\\in \\mathbb{R}^{N}\n",
        "$$"
      ]
    },
    {
      "cell_type": "markdown",
      "metadata": {
        "id": "5HKlgstUASyZ"
      },
      "source": [
        "$$\n",
        "\\frac{dy}{dx} =\n",
        "$$"
      ]
    },
    {
      "cell_type": "markdown",
      "metadata": {
        "id": "jzuTZohgASyZ"
      },
      "source": [
        "$$\n",
        "\\frac{dy}{dA} =\n",
        "$$"
      ]
    },
    {
      "cell_type": "markdown",
      "metadata": {
        "id": "NMUFJRKfASya"
      },
      "source": [
        "Hint for the latter (one of the ways): use *ex. 2* result and the fact\n",
        "$$\n",
        "tr(ABC) = tr (CAB)\n",
        "$$"
      ]
    },
    {
      "cell_type": "markdown",
      "source": [
        "Перепишем функцию явно:\n",
        "\n",
        "$y = \\sum_{i=1}^N \\sum_{j=1}^N x_i A_{ij} c_j$\n",
        "\n",
        "Найдем частные производные по $x_i$\n",
        "\n",
        "$\\frac{\\partial y}{\\partial x_i} = \\sum_{j=1}^N A_{ij} c_j$\n",
        "\n",
        "Или в векторном представлении\n",
        "\n",
        "$\\frac{\\partial y}{\\partial x_i} =\\begin{pmatrix} \\frac{\\partial y}{\\partial x_1} \\\\ \\frac{\\partial y}{\\partial x_2} \\\\ \\vdots \\\\ \\frac{\\partial y}{\\partial x_N} \\end{pmatrix} = A c$\n",
        "\n",
        "Найдем $\\frac{\\partial y}{\\partial A}$\n",
        "Снова перепишем функцию в явном виде:\n",
        "\n",
        "$y = \\sum_{i=1}^N \\sum_{j=1}^N x_i A_{ij} c_j$\n",
        "\n",
        "Тогда возьмем частную производную по $A_{ij}$\n",
        "\n",
        "$\\frac{\\partial y}{\\partial A_{ij}} = \\frac{\\partial}{\\partial A_{ij}} \\left( \\sum_{i=1}^N \\sum_{j=1}^N x_i A_{ij} c_j \\right).$\n",
        "\n",
        "Запишем как матрицу:\n",
        "\n",
        "$\\nabla_A y = \\begin{pmatrix} \\frac{\\partial y}{\\partial A_{11}} & \\frac{\\partial y}{\\partial A_{12}} & \\cdots & \\frac{\\partial y}{\\partial A_{1N}} \\\\ \\frac{\\partial y}{\\partial A_{21}} & \\frac{\\partial y}{\\partial A_{22}} & \\cdots & \\frac{\\partial y}{\\partial A_{2N}} \\\\ \\vdots & \\vdots & \\ddots & \\vdots \\\\ \\frac{\\partial y}{\\partial A_{N1}} & \\frac{\\partial y}{\\partial A_{N2}} & \\cdots & \\frac{\\partial y}{\\partial A_{NN}} \\end{pmatrix}$\n",
        "\n",
        "Ясно, что в данной матрице значение имеют только диагональные значения, когда индексы равны, тогда получаем:\n",
        "\n",
        "$\\frac{\\partial y}{\\partial A_{ij}} = x_i c_j$\n",
        "\n",
        "или\n",
        "\n",
        "$\\frac{\\partial y}{\\partial A} = x c^T$\n",
        "\n",
        "\n",
        "Ответ\n",
        "$\\frac{\\partial y}{\\partial x} = A c$ ;\n",
        "$\\frac{\\partial y}{\\partial A} = x c^T$\n",
        "\n",
        "\n"
      ],
      "metadata": {
        "id": "Jdj6piU15JSi"
      }
    },
    {
      "cell_type": "code",
      "execution_count": null,
      "metadata": {
        "collapsed": true,
        "jupyter": {
          "outputs_hidden": true
        },
        "id": "fQBv3RqBASya"
      },
      "outputs": [],
      "source": []
    },
    {
      "cell_type": "markdown",
      "metadata": {
        "id": "PauOHiWvASya"
      },
      "source": [
        "## ex. 4"
      ]
    },
    {
      "cell_type": "markdown",
      "metadata": {
        "id": "zGASbGDjASya"
      },
      "source": [
        "Classic matrix factorization example. Given matrix $X$ you need to find $A$, $S$ to approximate $X$. This can be done by simple gradient descent iteratively alternating $A$ and $S$ updates.\n",
        "$$\n",
        "J = || X - AS ||_F^2  , \\quad A\\in \\mathbb{R}^{N \\times R} , \\quad S\\in \\mathbb{R}^{R \\times M}\n",
        "$$\n",
        "$$\n",
        "\\frac{dJ}{dS} = ?\n",
        "$$\n",
        "\n",
        "You may use one of the following approaches:"
      ]
    },
    {
      "cell_type": "markdown",
      "metadata": {
        "id": "QkuTB8D3ASya"
      },
      "source": [
        "#### First approach\n",
        "Using ex.2 and the fact:\n",
        "$$\n",
        "|| X ||_F^2 = tr(XX^T)\n",
        "$$\n",
        "it is easy to derive gradients (you can find it in one of the refs)."
      ]
    },
    {
      "cell_type": "markdown",
      "metadata": {
        "id": "ceSm4MnHASya"
      },
      "source": [
        "#### Second approach\n",
        "You can use *slightly different techniques* if they suits you. Take a look at this derivation:\n",
        "<img src=\"grad.png\">\n",
        "(excerpt from [Handbook of blind source separation, Jutten, page 517](https://books.google.ru/books?id=PTbj03bYH6kC&printsec=frontcover&dq=Handbook+of+Blind+Source+Separation&hl=en&sa=X&ved=0ahUKEwi-q_apiJDLAhULvXIKHVXJDWcQ6AEIHDAA#v=onepage&q=Handbook%20of%20Blind%20Source%20Separation&f=false), open for better picture)."
      ]
    },
    {
      "cell_type": "markdown",
      "metadata": {
        "id": "-c52MfthASya"
      },
      "source": [
        "#### Third approach\n",
        "And finally we can use chain rule!\n",
        "let $ F = AS $\n",
        "\n",
        "**Find**\n",
        "$$\n",
        "\\frac{dJ}{dF} =  \n",
        "$$\n",
        "and\n",
        "$$\n",
        "\\frac{dF}{dS} =  \n",
        "$$\n",
        "(the shape should be $ NM \\times RM )$.\n",
        "\n",
        "Now it is easy do get desired gradients:\n",
        "$$\n",
        "\\frac{dJ}{dS} =  \n",
        "$$"
      ]
    },
    {
      "cell_type": "markdown",
      "source": [
        "Перепишем функцию $J = || X - AS ||_F^2  , \\quad A\\in \\mathbb{R}^{N \\times R} , \\quad S\\in \\mathbb{R}^{R \\times M}$ в следующем виде\n",
        "\n",
        "$J = \\| X - AS \\|_F^2 = \\text{Tr}((X - AS)^T (X - AS)),$\n",
        "\n",
        "по свойству нормы Фробениуса\n",
        "\n",
        "Затем раскроем скобки:\n",
        "\n",
        "$J = \\text{Tr}((X - AS)^T (X - AS)) = \\text{Tr}(X^T X - X^T AS - S^T A^T X + S^T A^T A S)$\n",
        "\n",
        "Заметим, что для матриц след обладает свойством симметрии: $\\text{Tr}(B^T C) = \\text{Tr}(C B^T)$ перепишем J как\n",
        "\n",
        "$J = \\text{Tr}(X^T X) - 2 \\text{Tr}(S^T A^T X) + \\text{Tr}(S^T A^T A S)$\n",
        "\n",
        "Теперь найдем градиент по S\n",
        "\n",
        "Производная от $ -2 \\text{Tr}(S^T A^T X) $ по S используя результат полученный в 3 упражнении :\n",
        "\n",
        "$\\frac{\\partial}{\\partial S} (-2 \\text{Tr}(S^T A^T X)) = -2 A^T X$\n",
        "\n",
        "Производная от $ \\text{Tr}(S^T A^T A S)$ по  S:\n",
        "\n",
        "$\\frac{\\partial}{\\partial S} \\text{Tr}(S^T A^T A S) = 2 A^T A S$\n",
        "\n",
        "Таким образом, градиент J по S будет равен сумме этих производных:\n",
        "\n",
        "$\\nabla_S J = -2 A^T X + 2 A^T A S = 2 A^T (AS - X)$\n",
        "\n"
      ],
      "metadata": {
        "id": "uppLCwakBZTP"
      }
    },
    {
      "cell_type": "markdown",
      "metadata": {
        "collapsed": true,
        "jupyter": {
          "outputs_hidden": true
        },
        "id": "iVFW9ED9ASyb"
      },
      "source": [
        "## 2. kNN questions\n",
        "Here come the questions from the assignment0_01. Please, refer to the assignment0_01 to get the context of the questions."
      ]
    },
    {
      "cell_type": "markdown",
      "metadata": {
        "id": "-r10OmLuASyb"
      },
      "source": [
        "### Question 1\n",
        "\n",
        "Notice the structured patterns in the distance matrix, where some rows or columns are visible brighter. (Note that with the default color scheme black indicates low distances while white indicates high distances.)\n",
        "\n",
        "- What in the data is the cause behind the distinctly bright rows?\n",
        "- What causes the columns?\n",
        "\n",
        "*Your Answer:* Появление четких столбцов и строк является признаком, того что объект значимо отличается от других объектов. Расстояние от данного объекта существенно велико до остальных объектов, что может говорить о выбросе в данных или быть признаком ошибки в данных.\n",
        "\n",
        "\n"
      ]
    },
    {
      "cell_type": "markdown",
      "metadata": {
        "id": "jwQqAtNlASyb"
      },
      "source": [
        "### Question 2\n",
        "\n",
        "We can also use other distance metrics such as L1 distance.\n",
        "For pixel values $p_{ij}^{(k)}$ at location $(i,j)$ of some image $I_k$,\n",
        "\n",
        "the mean $\\mu$ across all pixels over all images is $$\\mu=\\frac{1}{nhw}\\sum_{k=1}^n\\sum_{i=1}^{h}\\sum_{j=1}^{w}p_{ij}^{(k)}$$\n",
        "And the pixel-wise mean $\\mu_{ij}$ across all images is\n",
        "$$\\mu_{ij}=\\frac{1}{n}\\sum_{k=1}^np_{ij}^{(k)}.$$\n",
        "The general standard deviation $\\sigma$ and pixel-wise standard deviation $\\sigma_{ij}$ is defined similarly.\n",
        "\n",
        "Which of the following preprocessing steps will not change the performance of a Nearest Neighbor classifier that uses L1 distance? Select all that apply.\n",
        "1. Subtracting the mean $\\mu$ ($\\tilde{p}_{ij}^{(k)}=p_{ij}^{(k)}-\\mu$.)\n",
        "2. Subtracting the per pixel mean $\\mu_{ij}$  ($\\tilde{p}_{ij}^{(k)}=p_{ij}^{(k)}-\\mu_{ij}$.)\n",
        "3. Subtracting the mean $\\mu$ and dividing by the standard deviation $\\sigma$.\n",
        "4. Subtracting the pixel-wise mean $\\mu_{ij}$ and dividing by the pixel-wise standard deviation $\\sigma_{ij}$.\n",
        "5. Rotating the coordinate axes of the data.\n",
        "\n",
        "*Your Answer:*\n",
        "1. Not change. Сдвиг данных на один вектор не меняет расстояние между объектами\n",
        "2. Not change. Здесь также происходит сдвиг данных на один вектор, что не меняет расстояние между объектами\n",
        "3. Not change. Сначала данные сдвигаются на один вектор, что не меняет расстояние, затем расстояния умножаются на одинаковый коэффициент, что не меняет порядок соседних объектов\n",
        "4. Changed. В данном случае расстояние умножается на разные коэффициенты, что может привести к изменению порядка соседних объектов.\n",
        "5. Changed. Это преобразование изменяет положение точек данных в пространстве объектов, что влияет на расчет расстояния. Расстояние L1 зависит от конфигурации точек данных, поэтому поворот осей изменит конфигурацию и, следовательно, представление\n",
        "\n",
        "\n",
        "\n"
      ]
    },
    {
      "cell_type": "markdown",
      "metadata": {
        "id": "m52YWsAXASyb"
      },
      "source": [
        "## Question 3\n",
        "\n",
        "Which of the following statements about $k$-Nearest Neighbor ($k$-NN) are true in a classification setting, and for all $k$? Select all that apply.\n",
        "1. The decision boundary (hyperplane between classes in feature space) of the k-NN classifier is linear.\n",
        "2. The training error of a 1-NN will always be lower than that of 5-NN.\n",
        "3. The test error of a 1-NN will always be lower than that of a 5-NN.\n",
        "4. The time needed to classify a test example with the k-NN classifier grows with the size of the training set.\n",
        "5. None of the above.\n",
        "\n",
        "*Your Answer:*\n",
        "1. False. Граница может быть не линейной, иметь более сложную структуру\n",
        "2. True. Training Error будет ниже, так число собственных соседей (а значит число примеров) ниже\n",
        "3. False. 5-NN устоичевее к переобучению, что снижает test error\n",
        "4. True. Так как требует вычисление расстояний до остальных объектов, отсюда время для классификации тестового примера зависит от размера набора\n",
        "\n",
        "\n",
        "\n"
      ]
    }
  ],
  "metadata": {
    "kernelspec": {
      "display_name": "mipt",
      "language": "python",
      "name": "mipt"
    },
    "language_info": {
      "codemirror_mode": {
        "name": "ipython",
        "version": 3
      },
      "file_extension": ".py",
      "mimetype": "text/x-python",
      "name": "python",
      "nbconvert_exporter": "python",
      "pygments_lexer": "ipython3",
      "version": "3.9.5"
    },
    "colab": {
      "provenance": []
    }
  },
  "nbformat": 4,
  "nbformat_minor": 0
}